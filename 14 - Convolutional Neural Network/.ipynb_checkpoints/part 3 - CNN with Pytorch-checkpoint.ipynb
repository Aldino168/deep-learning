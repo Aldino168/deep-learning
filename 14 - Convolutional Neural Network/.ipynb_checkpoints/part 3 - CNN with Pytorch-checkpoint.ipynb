{
 "cells": [
  {
   "cell_type": "code",
   "execution_count": 1,
   "id": "72cc480d",
   "metadata": {},
   "outputs": [],
   "source": [
    "import torch\n",
    "from torch import nn, optim\n",
    "from jcopdl.callback import Callback,set_config"
   ]
  },
  {
   "cell_type": "code",
   "execution_count": 3,
   "id": "f37bccac",
   "metadata": {},
   "outputs": [
    {
     "data": {
      "text/plain": [
       "device(type='cpu')"
      ]
     },
     "execution_count": 3,
     "metadata": {},
     "output_type": "execute_result"
    }
   ],
   "source": [
    "device= torch.device(\"cuda\" if torch.cuda.is_available() else \"cpu\")\n",
    "device"
   ]
  },
  {
   "cell_type": "markdown",
   "id": "228fea6c",
   "metadata": {},
   "source": [
    "# Dataset and Dataloader"
   ]
  },
  {
   "cell_type": "code",
   "execution_count": 4,
   "id": "da637f01",
   "metadata": {},
   "outputs": [],
   "source": [
    "from torchvision import datasets,transforms\n",
    "from torch.utils.data import DataLoader"
   ]
  },
  {
   "cell_type": "code",
   "execution_count": 6,
   "id": "a8894fa0",
   "metadata": {},
   "outputs": [],
   "source": [
    "bs= 128\n",
    "crop_size= 64\n",
    "\n",
    "train_transform= transforms.Compose([\n",
    "    transforms.RandomRotation(15),\n",
    "    transforms.RandomResizedCrop(crop_size,scale=(0.8,1.0)),\n",
    "    transforms.RandomHorizontalFlip(),\n",
    "    transforms.ToTensor()\n",
    "])\n",
    "test_transform =transforms.Compose([\n",
    "    transforms.Resize(70),\n",
    "    transforms.CenterCrop(crop_size),\n",
    "    transforms.ToTensor()\n",
    "])\n",
    "\n",
    "train_set= datasets.ImageFolder(\"data/train/\",transform=train_transform)\n",
    "trainloader= DataLoader(train_set,batch_size=bs, shuffle=True, num_workers=2)\n",
    "\n",
    "test_set=datasets.ImageFolder(\"data/test/\",transform=test_transform)\n",
    "testloader= DataLoader(test_set, batch_size=bs, shuffle= True)"
   ]
  },
  {
   "cell_type": "markdown",
   "id": "c12e0d5c",
   "metadata": {},
   "source": [
    "* data test jangan di augmentasi, karna jika di augmentasi maka kita akan merubah target prediksi kita. data test hanya dirubah atau disamakan ukuran gambar nya dengan ukuran data train, sebelum di crop maka data test harus di resize dulu, supaya kalau ada data yang ukuran nya gak wajar, kita tetap bisa mengambil informasi penting nya. setelah di resize, baru deh center crop sebesar ukuran data train kita\n",
    "* gak semua data bisa kita lakukan data augmentasi, karna kalau data sudah kita augmentasi tapi setelah itu merubah makna, maka data itu jadi tidak valid. contoh data yang yang gak boleh kita kasih augmentasi flip horizontal adalah data gambar paru paru ( kalau di flip maka paru paru nya jadi di kiri dong) jadi inti nya gak semua data harus kita kasih teknik augmentasi, harus pahami dulu kegunaan data nya. augmentasi depand terhadap kasus nya"
   ]
  },
  {
   "cell_type": "code",
   "execution_count": 7,
   "id": "a22c2950",
   "metadata": {},
   "outputs": [
    {
     "data": {
      "text/plain": [
       "torch.Size([128, 3, 64, 64])"
      ]
     },
     "execution_count": 7,
     "metadata": {},
     "output_type": "execute_result"
    }
   ],
   "source": [
    "feature,target= next(iter(trainloader))\n",
    "feature.shape"
   ]
  },
  {
   "cell_type": "markdown",
   "id": "93276c28",
   "metadata": {},
   "source": [
    "# Arsitektur and Config"
   ]
  },
  {
   "cell_type": "code",
   "execution_count": null,
   "id": "39d0e09e",
   "metadata": {},
   "outputs": [],
   "source": []
  },
  {
   "cell_type": "code",
   "execution_count": null,
   "id": "ef6dc6d0",
   "metadata": {},
   "outputs": [],
   "source": []
  },
  {
   "cell_type": "code",
   "execution_count": null,
   "id": "0f48d254",
   "metadata": {},
   "outputs": [],
   "source": []
  },
  {
   "cell_type": "code",
   "execution_count": null,
   "id": "8f30016e",
   "metadata": {},
   "outputs": [],
   "source": [
    "class CustomCNN (nn.Module):\n",
    "    def __ init__(self):\n",
    "        super.__init__()\n",
    "        self.conv=\n",
    "        self.nn=\n",
    "    def forward(self,x):\n",
    "        "
   ]
  }
 ],
 "metadata": {
  "kernelspec": {
   "display_name": "Python [conda env:jcop]",
   "language": "python",
   "name": "conda-env-jcop-py"
  },
  "language_info": {
   "codemirror_mode": {
    "name": "ipython",
    "version": 3
   },
   "file_extension": ".py",
   "mimetype": "text/x-python",
   "name": "python",
   "nbconvert_exporter": "python",
   "pygments_lexer": "ipython3",
   "version": "3.7.6"
  }
 },
 "nbformat": 4,
 "nbformat_minor": 5
}
