{
 "cells": [
  {
   "cell_type": "code",
   "execution_count": 1,
   "id": "72cc480d",
   "metadata": {},
   "outputs": [],
   "source": [
    "import torch\n",
    "from torch import nn, optim\n",
    "from jcopdl.callback import Callback,set_config"
   ]
  },
  {
   "cell_type": "code",
   "execution_count": 2,
   "id": "f37bccac",
   "metadata": {},
   "outputs": [
    {
     "data": {
      "text/plain": [
       "device(type='cpu')"
      ]
     },
     "execution_count": 2,
     "metadata": {},
     "output_type": "execute_result"
    }
   ],
   "source": [
    "device= torch.device(\"cuda\" if torch.cuda.is_available() else \"cpu\")\n",
    "device"
   ]
  },
  {
   "cell_type": "markdown",
   "id": "228fea6c",
   "metadata": {},
   "source": [
    "# Dataset and Dataloader"
   ]
  },
  {
   "cell_type": "code",
   "execution_count": 3,
   "id": "da637f01",
   "metadata": {},
   "outputs": [],
   "source": [
    "from torchvision import datasets,transforms\n",
    "from torch.utils.data import DataLoader"
   ]
  },
  {
   "cell_type": "code",
   "execution_count": 4,
   "id": "a8894fa0",
   "metadata": {},
   "outputs": [],
   "source": [
    "bs= 16\n",
    "crop_size= 28\n",
    "\n",
    "train_transform= transforms.Compose([\n",
    "    transforms.Grayscale(3),\n",
    "    transforms.Resize(32),\n",
    "    transforms.RandomResizedCrop(crop_size,scale=(0.7,1.0)),\n",
    "    \n",
    "    transforms.ToTensor()\n",
    "])\n",
    "test_transform =transforms.Compose([\n",
    "    transforms.Grayscale(3),\n",
    "    transforms.Resize(28),\n",
    "    transforms.CenterCrop(28),\n",
    "    transforms.ToTensor()\n",
    "]) \n",
    "\n",
    "# data test gak perlu kita augmentasi karna data test ini yang menjadi acuan data train kita dalam menghitung loss untuk melakukan prediksi\n",
    "# data test hanya di ubah ukuran nya sesuai ukuran data train agar jumlah feature atau pixel nya sama (hanya dilakukan resize lalu center crop)\n",
    "\n",
    "\n",
    "train_set= datasets.ImageFolder(\"dataset_aksara_jawa/train/\",transform=train_transform)\n",
    "trainloader= DataLoader(train_set,batch_size=bs, shuffle=True, num_workers=2)\n",
    "\n",
    "test_set=datasets.ImageFolder(\"dataset_aksara_jawa/test/\",transform=test_transform)\n",
    "testloader= DataLoader(test_set, batch_size=bs, shuffle= True)"
   ]
  },
  {
   "cell_type": "markdown",
   "id": "c12e0d5c",
   "metadata": {},
   "source": [
    "* data test jangan di augmentasi, karna jika di augmentasi maka kita akan merubah target prediksi kita. data test hanya dirubah atau disamakan ukuran gambar nya dengan ukuran data train, sebelum di crop maka data test harus di resize dulu, supaya kalau ada data yang ukuran nya gak wajar, kita tetap bisa mengambil informasi penting nya. setelah di resize, baru deh center crop sebesar ukuran data train kita\n",
    "* gak semua data bisa kita lakukan data augmentasi, karna kalau data sudah kita augmentasi tapi setelah itu merubah makna, maka data itu jadi tidak valid. contoh data yang yang gak boleh kita kasih augmentasi flip horizontal adalah data gambar paru paru ( kalau di flip maka paru paru nya jadi di kiri dong) jadi inti nya gak semua data harus kita kasih teknik augmentasi, harus pahami dulu kegunaan data nya. augmentasi depand terhadap kasus nya"
   ]
  },
  {
   "cell_type": "code",
   "execution_count": 5,
   "id": "a22c2950",
   "metadata": {
    "scrolled": true
   },
   "outputs": [
    {
     "data": {
      "text/plain": [
       "torch.Size([16, 3, 28, 28])"
      ]
     },
     "execution_count": 5,
     "metadata": {},
     "output_type": "execute_result"
    }
   ],
   "source": [
    "feature,target= next(iter(trainloader))\n",
    "feature.shape"
   ]
  },
  {
   "cell_type": "code",
   "execution_count": 6,
   "id": "7a05fc2f",
   "metadata": {},
   "outputs": [
    {
     "data": {
      "text/plain": [
       "['ba',\n",
       " 'ca',\n",
       " 'da',\n",
       " 'dha',\n",
       " 'ga',\n",
       " 'ha',\n",
       " 'ja',\n",
       " 'ka',\n",
       " 'la',\n",
       " 'ma',\n",
       " 'na',\n",
       " 'nga',\n",
       " 'nya',\n",
       " 'pa',\n",
       " 'ra',\n",
       " 'sa',\n",
       " 'ta',\n",
       " 'tha',\n",
       " 'wa',\n",
       " 'ya']"
      ]
     },
     "execution_count": 6,
     "metadata": {},
     "output_type": "execute_result"
    }
   ],
   "source": [
    "label2cat= train_set.classes\n",
    "label2cat"
   ]
  },
  {
   "cell_type": "code",
   "execution_count": null,
   "id": "5b84123c",
   "metadata": {},
   "outputs": [],
   "source": []
  },
  {
   "cell_type": "markdown",
   "id": "93276c28",
   "metadata": {},
   "source": [
    "# Arsitektur and Config"
   ]
  },
  {
   "cell_type": "markdown",
   "id": "5a152f24",
   "metadata": {},
   "source": [
    "data kita udah di crop menjadi 64x64 dengan warna rgb atau 3 channel, oleh karena itu misal nya kita ingin concatenate hasil filter kita menjadi 8 lalu 16,32 (bebas mau make berapa jumlah filter, yang mana ini akan menentukan jumlah channel kita berikut nya) lalu untuk pooling ini misal n"
   ]
  },
  {
   "cell_type": "code",
   "execution_count": 7,
   "id": "3433ff99",
   "metadata": {},
   "outputs": [],
   "source": [
    "class CNN (nn.Module):\n",
    "    def __init__(self):\n",
    "        super().__init__()\n",
    "        self.cnn = nn.Sequential(\n",
    "            nn.Conv2d(3, 32, 3, 1,1),\n",
    "            nn.ReLU(),\n",
    "            nn.MaxPool2d(2, 2),\n",
    "            nn.Conv2d(32, 64, 2, 1,1),\n",
    "            nn.ReLU(),\n",
    "            nn.MaxPool2d(2, 2),\n",
    "            nn.Conv2d(64, 128, 3, 1,1),\n",
    "            nn.ReLU(),\n",
    "            nn.MaxPool2d(2, 2),\n",
    "            nn.Flatten()\n",
    "        )\n",
    "        \n",
    "        self.fc= nn.Sequential(\n",
    "            nn.Linear(1152,1000),\n",
    "            nn.ReLU(),\n",
    "            nn.Dropout(0.1),\n",
    "            nn.Linear(1000,20),\n",
    "            nn.LogSoftmax(1)\n",
    "            \n",
    "        \n",
    "        )\n",
    "        \n",
    "    def forward(self,x):\n",
    "        x= self.cnn(x)\n",
    "        x= self.fc(x)\n",
    "        return x"
   ]
  },
  {
   "cell_type": "markdown",
   "id": "6ba789f0",
   "metadata": {},
   "source": [
    "masuk dalam tahapan config, apa aja yang mau kita save,contoh nya input size dkk, tapi karna arsitektur kita udah ditentuin dari awal maka gak perlu kayak nya,mungkin batch size sama crop size aja"
   ]
  },
  {
   "cell_type": "code",
   "execution_count": 8,
   "id": "bd6b1388",
   "metadata": {},
   "outputs": [],
   "source": [
    "config = set_config({\n",
    "    \"batch_size\" : bs,\n",
    "    \"crop_size\" : crop_size\n",
    "})"
   ]
  },
  {
   "cell_type": "markdown",
   "id": "ad2acb13",
   "metadata": {},
   "source": [
    "# Training Preparation ~> MCOC"
   ]
  },
  {
   "cell_type": "code",
   "execution_count": 9,
   "id": "39d0e09e",
   "metadata": {},
   "outputs": [],
   "source": [
    "model=CNN().to(device)"
   ]
  },
  {
   "cell_type": "code",
   "execution_count": 10,
   "id": "ef6dc6d0",
   "metadata": {},
   "outputs": [],
   "source": [
    "criterion=nn.NLLLoss()"
   ]
  },
  {
   "cell_type": "code",
   "execution_count": 11,
   "id": "0f48d254",
   "metadata": {},
   "outputs": [],
   "source": [
    "optimizer=optim.AdamW(model.parameters(),lr= 0.0005)"
   ]
  },
  {
   "cell_type": "code",
   "execution_count": 12,
   "id": "5d8b4195",
   "metadata": {},
   "outputs": [],
   "source": [
    "callback=Callback(model, config,outdir=\"model_10\")"
   ]
  },
  {
   "cell_type": "markdown",
   "id": "6036913c",
   "metadata": {},
   "source": [
    "# Training Loop (feedforward, hitung cost, backprop, update weight)"
   ]
  },
  {
   "cell_type": "code",
   "execution_count": 13,
   "id": "c5cc5e96",
   "metadata": {},
   "outputs": [],
   "source": [
    "from tqdm.auto import tqdm"
   ]
  },
  {
   "cell_type": "code",
   "execution_count": 14,
   "id": "5f1d8f4a",
   "metadata": {},
   "outputs": [],
   "source": [
    "def loop_fn(mode, dataset, dataloader, model, creterion, optimizer, device):\n",
    "    if mode == \"train\":\n",
    "        model.train()\n",
    "    elif mode == \"test\":\n",
    "        model.eval()\n",
    "    cost=correct=0\n",
    "    for feature,target in tqdm(dataloader,desc = mode.title()):\n",
    "        feature,target= feature.to(device),target.to(device)\n",
    "        output= model(feature)\n",
    "        loss= criterion(output, target)\n",
    "        \n",
    "        if mode == \"train\":\n",
    "            loss.backward()\n",
    "            optimizer.step()\n",
    "            optimizer.zero_grad()\n",
    "            \n",
    "        cost+=loss.item()*feature.shape[0]\n",
    "        correct+=(output.argmax(1) == target).sum().item()\n",
    "    cost= cost/len(dataset)\n",
    "    acc= correct/len(dataset)\n",
    "    return cost, acc"
   ]
  },
  {
   "cell_type": "code",
   "execution_count": 15,
   "id": "6f6fdd17",
   "metadata": {},
   "outputs": [
    {
     "data": {
      "application/vnd.jupyter.widget-view+json": {
       "model_id": "85a5a3b1f7fd4b748d7c32b3902847b0",
       "version_major": 2,
       "version_minor": 0
      },
      "text/plain": [
       "HBox(children=(FloatProgress(value=0.0, description='Train', max=82.0, style=ProgressStyle(description_width='…"
      ]
     },
     "metadata": {},
     "output_type": "display_data"
    },
    {
     "name": "stdout",
     "output_type": "stream",
     "text": [
      "\n"
     ]
    },
    {
     "data": {
      "application/vnd.jupyter.widget-view+json": {
       "model_id": "f9a4cf2414444faba83c9df8a1030275",
       "version_major": 2,
       "version_minor": 0
      },
      "text/plain": [
       "HBox(children=(FloatProgress(value=0.0, description='Test', max=16.0, style=ProgressStyle(description_width='i…"
      ]
     },
     "metadata": {},
     "output_type": "display_data"
    },
    {
     "name": "stdout",
     "output_type": "stream",
     "text": [
      "\n",
      "\n",
      "Epoch     1\n",
      "Train_cost  = 3.0013 | Test_cost  = 2.9959 | Train_score = 0.0373 | Test_score = 0.0510 |\n"
     ]
    },
    {
     "data": {
      "application/vnd.jupyter.widget-view+json": {
       "model_id": "5cf6d4cabec94605af814dad33fd50bf",
       "version_major": 2,
       "version_minor": 0
      },
      "text/plain": [
       "HBox(children=(FloatProgress(value=0.0, description='Train', max=82.0, style=ProgressStyle(description_width='…"
      ]
     },
     "metadata": {},
     "output_type": "display_data"
    },
    {
     "name": "stdout",
     "output_type": "stream",
     "text": [
      "\n"
     ]
    },
    {
     "data": {
      "application/vnd.jupyter.widget-view+json": {
       "model_id": "6eaa5aeade6e45bf81253c5cc0d0fa93",
       "version_major": 2,
       "version_minor": 0
      },
      "text/plain": [
       "HBox(children=(FloatProgress(value=0.0, description='Test', max=16.0, style=ProgressStyle(description_width='i…"
      ]
     },
     "metadata": {},
     "output_type": "display_data"
    },
    {
     "name": "stdout",
     "output_type": "stream",
     "text": [
      "\n",
      "\n",
      "Epoch     2\n",
      "Train_cost  = 2.9978 | Test_cost  = 2.9960 | Train_score = 0.0366 | Test_score = 0.0471 |\n",
      "\u001b[31m==> EarlyStop patience =  1 | Best test_score: 0.0510\u001b[0m\n"
     ]
    },
    {
     "data": {
      "application/vnd.jupyter.widget-view+json": {
       "model_id": "24f0ac05749b4270a2f7c2f388ab9bfc",
       "version_major": 2,
       "version_minor": 0
      },
      "text/plain": [
       "HBox(children=(FloatProgress(value=0.0, description='Train', max=82.0, style=ProgressStyle(description_width='…"
      ]
     },
     "metadata": {},
     "output_type": "display_data"
    },
    {
     "name": "stdout",
     "output_type": "stream",
     "text": [
      "\n"
     ]
    },
    {
     "data": {
      "application/vnd.jupyter.widget-view+json": {
       "model_id": "800cdd2642984fafa518fb65371d0ac4",
       "version_major": 2,
       "version_minor": 0
      },
      "text/plain": [
       "HBox(children=(FloatProgress(value=0.0, description='Test', max=16.0, style=ProgressStyle(description_width='i…"
      ]
     },
     "metadata": {},
     "output_type": "display_data"
    },
    {
     "name": "stdout",
     "output_type": "stream",
     "text": [
      "\n",
      "\n",
      "Epoch     3\n",
      "Train_cost  = 2.9979 | Test_cost  = 2.9963 | Train_score = 0.0434 | Test_score = 0.0471 |\n",
      "\u001b[31m==> EarlyStop patience =  2 | Best test_score: 0.0510\u001b[0m\n"
     ]
    },
    {
     "data": {
      "application/vnd.jupyter.widget-view+json": {
       "model_id": "96801165942b4bb8bf846a9c7813dc5f",
       "version_major": 2,
       "version_minor": 0
      },
      "text/plain": [
       "HBox(children=(FloatProgress(value=0.0, description='Train', max=82.0, style=ProgressStyle(description_width='…"
      ]
     },
     "metadata": {},
     "output_type": "display_data"
    },
    {
     "name": "stdout",
     "output_type": "stream",
     "text": [
      "\n"
     ]
    },
    {
     "data": {
      "application/vnd.jupyter.widget-view+json": {
       "model_id": "84cbdd1ccc314fe1ab85b29f8da79451",
       "version_major": 2,
       "version_minor": 0
      },
      "text/plain": [
       "HBox(children=(FloatProgress(value=0.0, description='Test', max=16.0, style=ProgressStyle(description_width='i…"
      ]
     },
     "metadata": {},
     "output_type": "display_data"
    },
    {
     "name": "stdout",
     "output_type": "stream",
     "text": [
      "\n",
      "\n",
      "Epoch     4\n",
      "Train_cost  = 2.9982 | Test_cost  = 2.9957 | Train_score = 0.0412 | Test_score = 0.0510 |\n",
      "\u001b[31m==> EarlyStop patience =  3 | Best test_score: 0.0510\u001b[0m\n"
     ]
    },
    {
     "data": {
      "application/vnd.jupyter.widget-view+json": {
       "model_id": "55024ec0f94c4bb1a2091d82d5f7001a",
       "version_major": 2,
       "version_minor": 0
      },
      "text/plain": [
       "HBox(children=(FloatProgress(value=0.0, description='Train', max=82.0, style=ProgressStyle(description_width='…"
      ]
     },
     "metadata": {},
     "output_type": "display_data"
    },
    {
     "name": "stdout",
     "output_type": "stream",
     "text": [
      "\n"
     ]
    },
    {
     "data": {
      "application/vnd.jupyter.widget-view+json": {
       "model_id": "fe074959e9064d2b93dffc512e027fe6",
       "version_major": 2,
       "version_minor": 0
      },
      "text/plain": [
       "HBox(children=(FloatProgress(value=0.0, description='Test', max=16.0, style=ProgressStyle(description_width='i…"
      ]
     },
     "metadata": {},
     "output_type": "display_data"
    },
    {
     "name": "stdout",
     "output_type": "stream",
     "text": [
      "\n",
      "\n",
      "Epoch     5\n",
      "Train_cost  = 2.9973 | Test_cost  = 2.9959 | Train_score = 0.0419 | Test_score = 0.0471 |\n",
      "\u001b[31m==> EarlyStop patience =  4 | Best test_score: 0.0510\u001b[0m\n"
     ]
    },
    {
     "data": {
      "application/vnd.jupyter.widget-view+json": {
       "model_id": "628ffa0fcec142ba9a0d87e948887502",
       "version_major": 2,
       "version_minor": 0
      },
      "text/plain": [
       "HBox(children=(FloatProgress(value=0.0, description='Train', max=82.0, style=ProgressStyle(description_width='…"
      ]
     },
     "metadata": {},
     "output_type": "display_data"
    },
    {
     "name": "stdout",
     "output_type": "stream",
     "text": [
      "\n"
     ]
    },
    {
     "data": {
      "application/vnd.jupyter.widget-view+json": {
       "model_id": "ba075245ee6a4ad999efb005cd976948",
       "version_major": 2,
       "version_minor": 0
      },
      "text/plain": [
       "HBox(children=(FloatProgress(value=0.0, description='Test', max=16.0, style=ProgressStyle(description_width='i…"
      ]
     },
     "metadata": {},
     "output_type": "display_data"
    },
    {
     "name": "stdout",
     "output_type": "stream",
     "text": [
      "\n",
      "\n",
      "Epoch     6\n",
      "Train_cost  = 2.9976 | Test_cost  = 2.9958 | Train_score = 0.0389 | Test_score = 0.0510 |\n",
      "\u001b[31m==> EarlyStop patience =  5 | Best test_score: 0.0510\u001b[0m\n",
      "\u001b[31m==> Execute Early Stopping at epoch: 6 | Best test_score: 0.0510\u001b[0m\n",
      "\u001b[31m==> Best model is saved at model_10\u001b[0m\n"
     ]
    },
    {
     "data": {
      "image/png": "[encoded data removed]",
      "text/plain": [
       "<Figure size 576x360 with 1 Axes>"
      ]
     },
     "metadata": {
      "needs_background": "light"
     },
     "output_type": "display_data"
    },
    {
     "data": {
      "image/png": "[encoded data removed]",
      "text/plain": [
       "<Figure size 576x360 with 1 Axes>"
      ]
     },
     "metadata": {
      "needs_background": "light"
     },
     "output_type": "display_data"
    }
   ],
   "source": [
    "while True:\n",
    "    train_cost, train_score = loop_fn(\"train\",train_set,trainloader,model,criterion,optimizer,device) \n",
    "    with torch.no_grad():\n",
    "        test_cost,test_score= loop_fn(\"test\",test_set,testloader,model,criterion,optimizer,device) \n",
    "        \n",
    "    callback.log(train_cost,test_cost,train_score,test_score)\n",
    "    \n",
    "    callback.save_checkpoint()\n",
    "    callback.cost_runtime_plotting()\n",
    "    callback.score_runtime_plotting()\n",
    "    \n",
    "    if callback.early_stopping(model, monitor=\"test_score\"):\n",
    "        callback.plot_cost()\n",
    "        callback.plot_score()\n",
    "        break"
   ]
  },
  {
   "cell_type": "code",
   "execution_count": 16,
   "id": "75b8ba74",
   "metadata": {},
   "outputs": [],
   "source": [
    "import matplotlib.pyplot as plt"
   ]
  },
  {
   "cell_type": "code",
   "execution_count": 17,
   "id": "12f4140d",
   "metadata": {},
   "outputs": [],
   "source": [
    "feature,target= next(iter(testloader))\n",
    "feature, target = feature.to(device), target.to(device)"
   ]
  },
  {
   "cell_type": "code",
   "execution_count": 18,
   "id": "92cf53d7",
   "metadata": {},
   "outputs": [
    {
     "data": {
      "text/plain": [
       "tensor([1, 1, 1, 1, 1, 1, 1, 1, 1, 1, 1, 1, 1, 1, 1, 1])"
      ]
     },
     "execution_count": 18,
     "metadata": {},
     "output_type": "execute_result"
    }
   ],
   "source": [
    "with torch.no_grad():\n",
    "    model.eval()\n",
    "    output = model(feature)\n",
    "    pred = output.argmax(1)\n",
    "pred"
   ]
  },
  {
   "cell_type": "code",
   "execution_count": 19,
   "id": "38227051",
   "metadata": {},
   "outputs": [
    {
     "data": {
      "image/png": "[encoded data removed]",
      "text/plain": [
       "<Figure size 1728x1728 with 36 Axes>"
      ]
     },
     "metadata": {
      "needs_background": "light"
     },
     "output_type": "display_data"
    }
   ],
   "source": [
    "fig, axes= plt.subplots(6, 6, figsize= (24, 24))\n",
    "for img, label,pred, ax in zip(feature, target, pred,axes.flatten()):\n",
    "    ax.imshow(img.permute(1,2,0).cpu())\n",
    "    font = {\"color\":\"r\"} if label !=pred else {\"color\" :\"g\"}\n",
    "    label,pred = label2cat[label.item()], label2cat[pred.item()]\n",
    "    ax.set_title(f\"L: {label}\\nPred: {pred}\",fontdict=font);\n",
    "    ax.axis(\"off\");"
   ]
  },
  {
   "cell_type": "code",
   "execution_count": null,
   "id": "db86ff7d",
   "metadata": {},
   "outputs": [],
   "source": []
  },
  {
   "cell_type": "code",
   "execution_count": null,
   "id": "032d7c0f",
   "metadata": {},
   "outputs": [],
   "source": []
  },
  {
   "cell_type": "code",
   "execution_count": null,
   "id": "3c76ac11",
   "metadata": {},
   "outputs": [],
   "source": []
  },
  {
   "cell_type": "code",
   "execution_count": null,
   "id": "6654043f",
   "metadata": {},
   "outputs": [],
   "source": []
  },
  {
   "cell_type": "code",
   "execution_count": null,
   "id": "8f30016e",
   "metadata": {},
   "outputs": [],
   "source": []
  }
 ],
 "metadata": {
  "kernelspec": {
   "display_name": "Python [conda env:jcop]",
   "language": "python",
   "name": "conda-env-jcop-py"
  },
  "language_info": {
   "codemirror_mode": {
    "name": "ipython",
    "version": 3
   },
   "file_extension": ".py",
   "mimetype": "text/x-python",
   "name": "python",
   "nbconvert_exporter": "python",
   "pygments_lexer": "ipython3",
   "version": "3.7.6"
  }
 },
 "nbformat": 4,
 "nbformat_minor": 5
}
