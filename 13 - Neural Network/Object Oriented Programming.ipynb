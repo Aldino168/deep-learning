{
 "cells": [
  {
   "cell_type": "code",
   "execution_count": 1,
   "id": "bc6254a4",
   "metadata": {},
   "outputs": [],
   "source": [
    "import math"
   ]
  },
  {
   "attachments": {
    "image.png": {
     "image/png": "[encoded data removed]"
    }
   },
   "cell_type": "markdown",
   "id": "a6045759",
   "metadata": {},
   "source": [
    "![image.png](attachment:image.png)"
   ]
  },
  {
   "cell_type": "code",
   "execution_count": 4,
   "id": "0e8f875e",
   "metadata": {},
   "outputs": [
    {
     "data": {
      "text/plain": [
       "26.87551991085859"
      ]
     },
     "execution_count": 4,
     "metadata": {},
     "output_type": "execute_result"
    }
   ],
   "source": [
    "(math.sqrt(175))+ (4*math.sqrt(7)) + (1/3) + (math.log(81,5))"
   ]
  },
  {
   "cell_type": "code",
   "execution_count": 1,
   "id": "aba4cc71",
   "metadata": {},
   "outputs": [],
   "source": [
    "class manusia:\n",
    "    def __init__(self):\n",
    "            self.warna = \"hitam\"\n",
    "            self.tinggi = 180\n",
    "            self.berat = 60"
   ]
  },
  {
   "cell_type": "code",
   "execution_count": 2,
   "id": "60bb3dbb",
   "metadata": {},
   "outputs": [],
   "source": [
    "wira= manusia()"
   ]
  },
  {
   "cell_type": "code",
   "execution_count": 3,
   "id": "274935a9",
   "metadata": {},
   "outputs": [
    {
     "data": {
      "text/plain": [
       "60"
      ]
     },
     "execution_count": 3,
     "metadata": {},
     "output_type": "execute_result"
    }
   ],
   "source": [
    "wira.berat"
   ]
  },
  {
   "cell_type": "code",
   "execution_count": 4,
   "id": "6180c3f8",
   "metadata": {},
   "outputs": [
    {
     "data": {
      "text/plain": [
       "180"
      ]
     },
     "execution_count": 4,
     "metadata": {},
     "output_type": "execute_result"
    }
   ],
   "source": [
    "wira.tinggi"
   ]
  },
  {
   "cell_type": "code",
   "execution_count": 5,
   "id": "1c70526b",
   "metadata": {},
   "outputs": [
    {
     "data": {
      "text/plain": [
       "'hitam'"
      ]
     },
     "execution_count": 5,
     "metadata": {},
     "output_type": "execute_result"
    }
   ],
   "source": [
    "wira.warna"
   ]
  },
  {
   "cell_type": "code",
   "execution_count": 6,
   "id": "103cd21c",
   "metadata": {},
   "outputs": [],
   "source": [
    "class manusia:\n",
    "    def __init__(self, masukin_warna, masukin_tinggi, masukin_berat):\n",
    "        self.warna = masukin_warna\n",
    "        self.tinggi = masukin_tinggi\n",
    "        self.berat = masukin_berat"
   ]
  },
  {
   "cell_type": "code",
   "execution_count": 7,
   "id": "8c12728c",
   "metadata": {},
   "outputs": [],
   "source": [
    "wira =manusia(\"hitam\",20,36)"
   ]
  },
  {
   "cell_type": "code",
   "execution_count": 8,
   "id": "62b84926",
   "metadata": {},
   "outputs": [
    {
     "data": {
      "text/plain": [
       "20"
      ]
     },
     "execution_count": 8,
     "metadata": {},
     "output_type": "execute_result"
    }
   ],
   "source": [
    "wira.tinggi"
   ]
  },
  {
   "cell_type": "code",
   "execution_count": 9,
   "id": "f9fe6f21",
   "metadata": {},
   "outputs": [
    {
     "data": {
      "text/plain": [
       "36"
      ]
     },
     "execution_count": 9,
     "metadata": {},
     "output_type": "execute_result"
    }
   ],
   "source": [
    "wira.berat"
   ]
  },
  {
   "cell_type": "code",
   "execution_count": 10,
   "id": "daffabee",
   "metadata": {},
   "outputs": [
    {
     "data": {
      "text/plain": [
       "'hitam'"
      ]
     },
     "execution_count": 10,
     "metadata": {},
     "output_type": "execute_result"
    }
   ],
   "source": [
    "wira.warna"
   ]
  },
  {
   "cell_type": "code",
   "execution_count": 11,
   "id": "1124d752",
   "metadata": {},
   "outputs": [],
   "source": [
    "class manusia:\n",
    "    def __init__(self, masukin_warna, masukin_tinggi, masukin_berat):\n",
    "        self.warna = masukin_warna\n",
    "        self.tinggi = masukin_tinggi\n",
    "        self.berat = masukin_berat\n",
    "    def warna_sekarang(self, warna_sekarang):\n",
    "        self.warna = warna_sekarang\n",
    "        \n",
    "        print(f\"warna rambut sekarang {warna_sekarang}\")"
   ]
  },
  {
   "cell_type": "code",
   "execution_count": 12,
   "id": "19ca9a9d",
   "metadata": {},
   "outputs": [],
   "source": [
    "saya= manusia(\"hijau\",12,23)"
   ]
  },
  {
   "cell_type": "code",
   "execution_count": 13,
   "id": "d35f9a89",
   "metadata": {},
   "outputs": [
    {
     "data": {
      "text/plain": [
       "'hijau'"
      ]
     },
     "execution_count": 13,
     "metadata": {},
     "output_type": "execute_result"
    }
   ],
   "source": [
    "saya.warna"
   ]
  },
  {
   "cell_type": "code",
   "execution_count": 14,
   "id": "4172736e",
   "metadata": {},
   "outputs": [
    {
     "name": "stdout",
     "output_type": "stream",
     "text": [
      "warna rambut sekarang hitam\n"
     ]
    }
   ],
   "source": [
    "wira.warna_sekarang(\"hitam\")"
   ]
  },
  {
   "cell_type": "code",
   "execution_count": 15,
   "id": "9c77f7e3",
   "metadata": {},
   "outputs": [
    {
     "data": {
      "text/plain": [
       "'hitam'"
      ]
     },
     "execution_count": 15,
     "metadata": {},
     "output_type": "execute_result"
    }
   ],
   "source": [
    "wira.warna"
   ]
  },
  {
   "cell_type": "code",
   "execution_count": 16,
   "id": "2ea91094",
   "metadata": {},
   "outputs": [],
   "source": [
    "class manusia:\n",
    "    def __init__(self, masukin_warna, masukin_tinggi, masukin_berat):\n",
    "        self.warna = masukin_warna\n",
    "        self.tinggi = masukin_tinggi\n",
    "        self.berat = masukin_berat\n",
    "    def warna_sekarang(self, warna_sekarang):\n",
    "        self.warna = warna_sekarang\n",
    "        \n",
    "        print(f\"warna rambut sekarang {warna_sekarang}\")\n",
    "    def BMI(self):\n",
    "        self.BMI = self.berat/self.tinggi\n",
    "        return  self.BMI"
   ]
  },
  {
   "cell_type": "code",
   "execution_count": 17,
   "id": "03b1ae93",
   "metadata": {},
   "outputs": [],
   "source": [
    "saya= manusia(\"hitam\",190,60)"
   ]
  },
  {
   "cell_type": "code",
   "execution_count": 18,
   "id": "eb013585",
   "metadata": {},
   "outputs": [
    {
     "data": {
      "text/plain": [
       "0.3157894736842105"
      ]
     },
     "execution_count": 18,
     "metadata": {},
     "output_type": "execute_result"
    }
   ],
   "source": [
    "saya.BMI()"
   ]
  },
  {
   "cell_type": "code",
   "execution_count": 19,
   "id": "cc6523e3",
   "metadata": {},
   "outputs": [],
   "source": [
    "class Mahasiswa (manusia):\n",
    "    def __init__(self, masukin_warna, masukin_tinggi, masukin_berat , universitas, beasiswa):\n",
    "        super().__init__(masukin_warna, masukin_tinggi, masukin_berat)\n",
    "        self.universitas = universitas\n",
    "        self.beasiswa = beasiswa\n",
    "    def Lolos(self):\n",
    "        return self.universitas + self.beasiswa"
   ]
  },
  {
   "cell_type": "code",
   "execution_count": 20,
   "id": "644d7875",
   "metadata": {},
   "outputs": [],
   "source": [
    "rahmat = Mahasiswa(\"hitam\", 190, 70,\"ITB\",\"PPA\")"
   ]
  },
  {
   "cell_type": "code",
   "execution_count": 21,
   "id": "4a3f9be3",
   "metadata": {},
   "outputs": [
    {
     "data": {
      "text/plain": [
       "'ITB'"
      ]
     },
     "execution_count": 21,
     "metadata": {},
     "output_type": "execute_result"
    }
   ],
   "source": [
    "rahmat.universitas"
   ]
  },
  {
   "cell_type": "code",
   "execution_count": 22,
   "id": "1918e6d5",
   "metadata": {},
   "outputs": [
    {
     "data": {
      "text/plain": [
       "'ITBPPA'"
      ]
     },
     "execution_count": 22,
     "metadata": {},
     "output_type": "execute_result"
    }
   ],
   "source": [
    "rahmat.Lolos()"
   ]
  },
  {
   "cell_type": "markdown",
   "id": "0840a551",
   "metadata": {},
   "source": [
    "# guna nya kita berlajar OOP ini adalah untuk comot atau ambil code orang lain yang ada hubungan nya dengan projek kita, nah kita tinggal edit edit sedikit, ntah itu artibut atau method yang ingin kita pake "
   ]
  },
  {
   "cell_type": "code",
   "execution_count": 23,
   "id": "58b2e2a1",
   "metadata": {},
   "outputs": [],
   "source": [
    "from torch import nn"
   ]
  },
  {
   "cell_type": "code",
   "execution_count": 24,
   "id": "8c1a57bf",
   "metadata": {},
   "outputs": [],
   "source": [
    "??nn.Module"
   ]
  },
  {
   "cell_type": "code",
   "execution_count": 25,
   "id": "e4725c42",
   "metadata": {},
   "outputs": [],
   "source": [
    "class CustomNN (nn.Module):\n",
    "    def __init__(self, input_size):\n",
    "        super().__init__()\n",
    "        self.model=nn.Sequential(\n",
    "            nn.Linear(input_size, 16),\n",
    "            nn.ReLU(),\n",
    "            nn.Linear(16, 8),\n",
    "            nn.ReLU(),\n",
    "            nn.Linear(8, 2),\n",
    "            nn.Sigmoid()\n",
    "        )\n",
    "    def forward(self, x):\n",
    "        return self.model(x)"
   ]
  },
  {
   "cell_type": "code",
   "execution_count": 26,
   "id": "4ee869c6",
   "metadata": {},
   "outputs": [],
   "source": [
    "class CustomNN (nn.Module):\n",
    "    def __init__(self, input_size):\n",
    "        super().__init__()\n",
    "        self.model=nn.Sequential(\n",
    "            nn.Linear(input_size, 16),\n",
    "            nn.ReLU()\n",
    "        )\n",
    "        self.reg = nn.Sequential(\n",
    "            nn.Linear(16, 4),\n",
    "            nn.Identity()\n",
    "        )\n",
    "        self.clf = nn.Sequential(\n",
    "            nn.Linear(16, 2),\n",
    "            nn.Sigmoid()\n",
    "        ) \n",
    "    def forward(self, x):\n",
    "        y= self.model(x)\n",
    "        reg = self.reg(y)\n",
    "        pred = self.clf(y)\n",
    "        return reg, pred"
   ]
  },
  {
   "cell_type": "code",
   "execution_count": 27,
   "id": "13c1d761",
   "metadata": {},
   "outputs": [
    {
     "data": {
      "text/plain": [
       "CustomNN(\n",
       "  (model): Sequential(\n",
       "    (0): Linear(in_features=5, out_features=16, bias=True)\n",
       "    (1): ReLU()\n",
       "  )\n",
       "  (reg): Sequential(\n",
       "    (0): Linear(in_features=16, out_features=4, bias=True)\n",
       "    (1): Identity()\n",
       "  )\n",
       "  (clf): Sequential(\n",
       "    (0): Linear(in_features=16, out_features=2, bias=True)\n",
       "    (1): Sigmoid()\n",
       "  )\n",
       ")"
      ]
     },
     "execution_count": 27,
     "metadata": {},
     "output_type": "execute_result"
    }
   ],
   "source": [
    "CustomNN(5)"
   ]
  },
  {
   "cell_type": "code",
   "execution_count": 28,
   "id": "36cfad71",
   "metadata": {},
   "outputs": [],
   "source": [
    "import torch"
   ]
  },
  {
   "cell_type": "code",
   "execution_count": 29,
   "id": "965ed437",
   "metadata": {},
   "outputs": [],
   "source": [
    "contoh= torch.rand(100,7)"
   ]
  },
  {
   "cell_type": "code",
   "execution_count": 30,
   "id": "36306855",
   "metadata": {},
   "outputs": [],
   "source": [
    "running= CustomNN(7)"
   ]
  },
  {
   "cell_type": "code",
   "execution_count": 31,
   "id": "9d410ac1",
   "metadata": {},
   "outputs": [
    {
     "data": {
      "text/plain": [
       "(tensor([[-0.2255,  0.0136,  0.1987, -0.1614],\n",
       "         [-0.2713, -0.0271,  0.3516, -0.0967],\n",
       "         [-0.1995,  0.0732,  0.2843, -0.2144],\n",
       "         [ 0.0417,  0.1508,  0.1507, -0.2614],\n",
       "         [ 0.0152,  0.1711,  0.1583, -0.2774],\n",
       "         [-0.3443,  0.0426,  0.4018, -0.1842],\n",
       "         [-0.3851,  0.0736,  0.3494, -0.2292],\n",
       "         [-0.0612,  0.0623,  0.2058, -0.1934],\n",
       "         [-0.2704,  0.0325,  0.3453, -0.1639],\n",
       "         [-0.1520,  0.0843,  0.2731, -0.2390],\n",
       "         [-0.0946,  0.2549,  0.1329, -0.3742],\n",
       "         [-0.1062,  0.1647,  0.1699, -0.3136],\n",
       "         [-0.0516,  0.1344,  0.1635, -0.2516],\n",
       "         [-0.2414,  0.0704,  0.3756, -0.2177],\n",
       "         [-0.2363,  0.1104,  0.3174, -0.2520],\n",
       "         [-0.1647,  0.1032,  0.2747, -0.2244],\n",
       "         [-0.2718,  0.0983,  0.3091, -0.2427],\n",
       "         [-0.0126,  0.2090,  0.1596, -0.3287],\n",
       "         [-0.2028,  0.1286,  0.2144, -0.3011],\n",
       "         [-0.3256, -0.0296,  0.3815, -0.1011],\n",
       "         [-0.3558, -0.0039,  0.3830, -0.1576],\n",
       "         [-0.1799,  0.1108,  0.3469, -0.2735],\n",
       "         [-0.2346,  0.1356,  0.3259, -0.2791],\n",
       "         [-0.3073,  0.0712,  0.4199, -0.2327],\n",
       "         [-0.3115,  0.0374,  0.2433, -0.1648],\n",
       "         [-0.2884, -0.0197,  0.2343, -0.1671],\n",
       "         [-0.2307,  0.1252,  0.3068, -0.3102],\n",
       "         [-0.2889,  0.1082,  0.2641, -0.2625],\n",
       "         [-0.1673,  0.1052,  0.1807, -0.2249],\n",
       "         [-0.3626, -0.0010,  0.4295, -0.1280],\n",
       "         [-0.3223,  0.0658,  0.3100, -0.1942],\n",
       "         [-0.2001,  0.0932,  0.1598, -0.2248],\n",
       "         [-0.2336,  0.0567,  0.2795, -0.2191],\n",
       "         [-0.0747,  0.1899,  0.1019, -0.2994],\n",
       "         [-0.2596,  0.0783,  0.2242, -0.2292],\n",
       "         [-0.2117,  0.1098,  0.2431, -0.2583],\n",
       "         [ 0.0538,  0.1848,  0.1548, -0.2850],\n",
       "         [-0.2682,  0.0665,  0.2257, -0.2286],\n",
       "         [-0.2090,  0.1524,  0.1973, -0.2606],\n",
       "         [-0.1957,  0.0991,  0.1769, -0.2548],\n",
       "         [-0.1014,  0.2339,  0.1151, -0.3433],\n",
       "         [-0.3171, -0.0414,  0.3018, -0.1137],\n",
       "         [-0.3577,  0.0123,  0.3110, -0.1424],\n",
       "         [-0.1751,  0.1306,  0.1023, -0.2448],\n",
       "         [-0.3335, -0.0341,  0.2698, -0.1189],\n",
       "         [-0.2454,  0.1084,  0.2187, -0.2464],\n",
       "         [-0.1944,  0.0621,  0.1576, -0.2105],\n",
       "         [-0.3104,  0.1107,  0.2591, -0.2315],\n",
       "         [-0.2244,  0.1069,  0.2351, -0.2593],\n",
       "         [-0.3567,  0.0446,  0.2940, -0.1537],\n",
       "         [-0.1571,  0.1291,  0.2510, -0.2889],\n",
       "         [-0.2177,  0.0626,  0.2359, -0.2454],\n",
       "         [-0.3751,  0.0498,  0.3781, -0.1948],\n",
       "         [-0.3096, -0.0062,  0.2542, -0.1596],\n",
       "         [-0.1253,  0.1708,  0.3447, -0.3180],\n",
       "         [-0.1830,  0.1803,  0.2169, -0.3235],\n",
       "         [-0.2829,  0.0158,  0.4088, -0.1572],\n",
       "         [-0.2384,  0.0388,  0.3455, -0.1532],\n",
       "         [-0.3482,  0.0079,  0.3916, -0.1654],\n",
       "         [-0.0669,  0.1471,  0.1585, -0.2653],\n",
       "         [-0.2567,  0.0878,  0.3329, -0.2297],\n",
       "         [-0.1326,  0.1323,  0.1167, -0.2450],\n",
       "         [-0.2177,  0.1888,  0.3011, -0.3482],\n",
       "         [-0.1810,  0.0723,  0.2979, -0.2097],\n",
       "         [-0.2018,  0.1899,  0.1737, -0.3044],\n",
       "         [-0.3599,  0.0545,  0.3228, -0.1769],\n",
       "         [-0.2179,  0.0717,  0.2423, -0.2287],\n",
       "         [-0.1568,  0.1508,  0.3316, -0.2931],\n",
       "         [-0.1776,  0.0768,  0.2914, -0.2455],\n",
       "         [-0.0891,  0.1497,  0.2214, -0.2927],\n",
       "         [-0.3104,  0.0938,  0.2614, -0.2033],\n",
       "         [-0.2005,  0.1287,  0.2314, -0.2443],\n",
       "         [-0.2999,  0.0453,  0.3549, -0.1978],\n",
       "         [-0.1873,  0.0512,  0.2623, -0.1904],\n",
       "         [-0.2891,  0.0758,  0.2890, -0.2333],\n",
       "         [-0.3648,  0.0701,  0.3431, -0.2420],\n",
       "         [-0.3487,  0.0220,  0.4130, -0.1699],\n",
       "         [-0.2428,  0.0186,  0.2183, -0.1420],\n",
       "         [-0.3564,  0.0990,  0.3325, -0.2439],\n",
       "         [-0.0684,  0.1891,  0.2230, -0.3231],\n",
       "         [-0.1631,  0.1160,  0.3774, -0.2566],\n",
       "         [-0.2753,  0.0265,  0.2164, -0.1399],\n",
       "         [-0.1266,  0.1580,  0.2696, -0.2989],\n",
       "         [-0.2911, -0.0394,  0.2607, -0.1214],\n",
       "         [-0.2069,  0.0811,  0.2876, -0.2496],\n",
       "         [-0.3079,  0.0657,  0.3245, -0.2062],\n",
       "         [-0.0801,  0.1197,  0.3701, -0.2563],\n",
       "         [-0.1866,  0.0981,  0.2153, -0.2628],\n",
       "         [-0.4595,  0.0362,  0.4177, -0.1590],\n",
       "         [-0.1414,  0.1626,  0.3657, -0.3018],\n",
       "         [-0.3413, -0.0028,  0.3175, -0.1409],\n",
       "         [-0.3510,  0.0036,  0.3124, -0.1572],\n",
       "         [-0.3780,  0.0323,  0.3910, -0.1577],\n",
       "         [-0.1627,  0.1203,  0.1874, -0.2445],\n",
       "         [-0.3044,  0.1004,  0.3122, -0.2646],\n",
       "         [-0.2687, -0.0111,  0.2435, -0.1567],\n",
       "         [-0.2238,  0.1130,  0.3476, -0.2611],\n",
       "         [-0.2029,  0.0748,  0.2147, -0.2276],\n",
       "         [-0.1739,  0.0593,  0.3949, -0.1849],\n",
       "         [-0.2768,  0.1403,  0.2757, -0.2806]], grad_fn=<AddmmBackward>),\n",
       " tensor([[0.4373, 0.5539],\n",
       "         [0.4503, 0.5525],\n",
       "         [0.4284, 0.5710],\n",
       "         [0.4662, 0.5594],\n",
       "         [0.4633, 0.5588],\n",
       "         [0.4432, 0.5766],\n",
       "         [0.4176, 0.5745],\n",
       "         [0.4453, 0.5676],\n",
       "         [0.4611, 0.5579],\n",
       "         [0.4348, 0.5810],\n",
       "         [0.4414, 0.5672],\n",
       "         [0.4510, 0.5636],\n",
       "         [0.4664, 0.5558],\n",
       "         [0.4319, 0.5930],\n",
       "         [0.4415, 0.5763],\n",
       "         [0.4584, 0.5674],\n",
       "         [0.4266, 0.5708],\n",
       "         [0.4589, 0.5643],\n",
       "         [0.4213, 0.5864],\n",
       "         [0.4621, 0.5540],\n",
       "         [0.4254, 0.5897],\n",
       "         [0.4441, 0.5973],\n",
       "         [0.4591, 0.5696],\n",
       "         [0.4302, 0.6002],\n",
       "         [0.4308, 0.5298],\n",
       "         [0.4112, 0.5739],\n",
       "         [0.4118, 0.6148],\n",
       "         [0.4161, 0.5672],\n",
       "         [0.4451, 0.5528],\n",
       "         [0.4556, 0.5653],\n",
       "         [0.4517, 0.5502],\n",
       "         [0.4354, 0.5495],\n",
       "         [0.4225, 0.5800],\n",
       "         [0.4632, 0.5446],\n",
       "         [0.4253, 0.5615],\n",
       "         [0.4363, 0.5626],\n",
       "         [0.4746, 0.5589],\n",
       "         [0.4149, 0.5681],\n",
       "         [0.4546, 0.5396],\n",
       "         [0.4327, 0.5634],\n",
       "         [0.4369, 0.5596],\n",
       "         [0.4270, 0.5654],\n",
       "         [0.4304, 0.5460],\n",
       "         [0.4484, 0.5327],\n",
       "         [0.4167, 0.5512],\n",
       "         [0.4284, 0.5599],\n",
       "         [0.4357, 0.5541],\n",
       "         [0.4079, 0.5552],\n",
       "         [0.4344, 0.5681],\n",
       "         [0.4110, 0.5395],\n",
       "         [0.4299, 0.5922],\n",
       "         [0.4143, 0.5938],\n",
       "         [0.4292, 0.5758],\n",
       "         [0.4140, 0.5644],\n",
       "         [0.4530, 0.5889],\n",
       "         [0.4381, 0.5731],\n",
       "         [0.4595, 0.5735],\n",
       "         [0.4584, 0.5535],\n",
       "         [0.4234, 0.5916],\n",
       "         [0.4557, 0.5546],\n",
       "         [0.4216, 0.5789],\n",
       "         [0.4433, 0.5440],\n",
       "         [0.4270, 0.5938],\n",
       "         [0.4274, 0.5763],\n",
       "         [0.4318, 0.5513],\n",
       "         [0.4579, 0.5351],\n",
       "         [0.4251, 0.5677],\n",
       "         [0.4510, 0.5811],\n",
       "         [0.4260, 0.5942],\n",
       "         [0.4557, 0.5693],\n",
       "         [0.4228, 0.5394],\n",
       "         [0.4480, 0.5589],\n",
       "         [0.4432, 0.5796],\n",
       "         [0.4314, 0.5639],\n",
       "         [0.4351, 0.5704],\n",
       "         [0.3964, 0.5938],\n",
       "         [0.4427, 0.5811],\n",
       "         [0.4450, 0.5470],\n",
       "         [0.4256, 0.5670],\n",
       "         [0.4536, 0.5700],\n",
       "         [0.4597, 0.5863],\n",
       "         [0.4333, 0.5405],\n",
       "         [0.4435, 0.5771],\n",
       "         [0.4267, 0.5623],\n",
       "         [0.4226, 0.5950],\n",
       "         [0.4374, 0.5644],\n",
       "         [0.4508, 0.5934],\n",
       "         [0.4244, 0.5815],\n",
       "         [0.4183, 0.5595],\n",
       "         [0.4358, 0.6004],\n",
       "         [0.4258, 0.5648],\n",
       "         [0.4224, 0.5624],\n",
       "         [0.4477, 0.5612],\n",
       "         [0.4381, 0.5648],\n",
       "         [0.4161, 0.5858],\n",
       "         [0.4173, 0.5661],\n",
       "         [0.4463, 0.5892],\n",
       "         [0.4329, 0.5602],\n",
       "         [0.4768, 0.5644],\n",
       "         [0.4146, 0.5733]], grad_fn=<SigmoidBackward>))"
      ]
     },
     "execution_count": 31,
     "metadata": {},
     "output_type": "execute_result"
    }
   ],
   "source": [
    "running.forward(contoh)"
   ]
  },
  {
   "cell_type": "code",
   "execution_count": 33,
   "id": "79c9c90e",
   "metadata": {},
   "outputs": [],
   "source": [
    "??nn.Module"
   ]
  }
 ],
 "metadata": {
  "kernelspec": {
   "display_name": "Python [conda env:jcop]",
   "language": "python",
   "name": "conda-env-jcop-py"
  },
  "language_info": {
   "codemirror_mode": {
    "name": "ipython",
    "version": 3
   },
   "file_extension": ".py",
   "mimetype": "text/x-python",
   "name": "python",
   "nbconvert_exporter": "python",
   "pygments_lexer": "ipython3",
   "version": "3.7.6"
  }
 },
 "nbformat": 4,
 "nbformat_minor": 5
}
