{
 "cells": [
  {
   "cell_type": "markdown",
   "id": "5af332b3",
   "metadata": {},
   "source": [
    "# Callback merupakan package untuk mechine menentukan sendiri di epoch keberapa mechine harus berhenti guna mengambil model yang bagus"
   ]
  },
  {
   "cell_type": "code",
   "execution_count": 1,
   "id": "36de7284",
   "metadata": {},
   "outputs": [],
   "source": [
    "from jcopdl.callback import Callback,set_config"
   ]
  },
  {
   "cell_type": "code",
   "execution_count": 2,
   "id": "70b396c4",
   "metadata": {},
   "outputs": [],
   "source": [
    "import torch"
   ]
  },
  {
   "cell_type": "markdown",
   "id": "db877bed",
   "metadata": {},
   "source": [
    "### package untuk mempermudah load data image\n",
    "\n",
    "* format atau path datanya harus sesuai dengan -> data/train atau test/nama tiap feature data/ feature keberapa\n",
    "* di torchvision class datasets fungsi ImageFolder"
   ]
  },
  {
   "cell_type": "code",
   "execution_count": 3,
   "id": "ea6e776f",
   "metadata": {},
   "outputs": [
    {
     "data": {
      "text/plain": [
       "device(type='cpu')"
      ]
     },
     "execution_count": 3,
     "metadata": {},
     "output_type": "execute_result"
    }
   ],
   "source": [
    "device= torch.device(\"cuda\" if torch.cuda.is_available() else \"cpu\")\n",
    "device"
   ]
  },
  {
   "cell_type": "code",
   "execution_count": null,
   "id": "fb25c7da",
   "metadata": {},
   "outputs": [],
   "source": []
  },
  {
   "cell_type": "markdown",
   "id": "3dcd092e",
   "metadata": {},
   "source": [
    "# Dataset dan Dataloader"
   ]
  },
  {
   "cell_type": "code",
   "execution_count": 4,
   "id": "d5d50704",
   "metadata": {},
   "outputs": [],
   "source": [
    "from torchvision import datasets,transforms"
   ]
  },
  {
   "cell_type": "code",
   "execution_count": 5,
   "id": "41a56e39",
   "metadata": {},
   "outputs": [],
   "source": [
    "from torch.utils.data import DataLoader"
   ]
  },
  {
   "cell_type": "code",
   "execution_count": 6,
   "id": "88e95c72",
   "metadata": {},
   "outputs": [],
   "source": [
    "transform= transforms.Compose([\n",
    "    transforms.Grayscale(),\n",
    "    transforms.ToTensor()\n",
    "])\n",
    "\n",
    "train_set = datasets.ImageFolder(\"data/train/\",transform=transform)\n",
    "train_loader = DataLoader(train_set,batch_size= 128,shuffle=True,num_workers=2)\n",
    "test_set = datasets.ImageFolder(\"data/test/\",transform=transform)\n",
    "test_loader = DataLoader(test_set, batch_size= 128, shuffle=True,num_workers=2)"
   ]
  },
  {
   "cell_type": "markdown",
   "id": "5e1ba227",
   "metadata": {},
   "source": [
    "# setelah di load menjadi dataloader, kan ini data image, maka perlu penganan dijadiin tensor, karna tiap pixel gambar itu masih dalam bentuk array\n",
    "* gunakan package transforms dari torchvision"
   ]
  },
  {
   "cell_type": "code",
   "execution_count": 7,
   "id": "86810ed2",
   "metadata": {},
   "outputs": [],
   "source": [
    "transform= transforms.Compose([\n",
    "    transforms.Grayscale(),\n",
    "    transforms.ToTensor()\n",
    "])"
   ]
  },
  {
   "cell_type": "code",
   "execution_count": 8,
   "id": "1ec3eac1",
   "metadata": {},
   "outputs": [
    {
     "data": {
      "text/plain": [
       "Dataset ImageFolder\n",
       "    Number of datapoints: 40000\n",
       "    Root location: data/train/\n",
       "    StandardTransform\n",
       "Transform: Compose(\n",
       "               Grayscale(num_output_channels=1)\n",
       "               ToTensor()\n",
       "           )"
      ]
     },
     "execution_count": 8,
     "metadata": {},
     "output_type": "execute_result"
    }
   ],
   "source": [
    "train_set"
   ]
  },
  {
   "cell_type": "code",
   "execution_count": 32,
   "id": "f2934918",
   "metadata": {},
   "outputs": [],
   "source": [
    "feature,target = next(iter(train_loader))"
   ]
  },
  {
   "cell_type": "code",
   "execution_count": 10,
   "id": "21796d90",
   "metadata": {},
   "outputs": [],
   "source": [
    "label2cat= train_set.classes"
   ]
  },
  {
   "cell_type": "markdown",
   "id": "3c863114",
   "metadata": {},
   "source": [
    "# Arsitektur"
   ]
  },
  {
   "cell_type": "code",
   "execution_count": 11,
   "id": "59824c5c",
   "metadata": {},
   "outputs": [],
   "source": [
    "from torch import nn"
   ]
  },
  {
   "cell_type": "markdown",
   "id": "27b5921b",
   "metadata": {},
   "source": [
    "#### input nya 784 karena data gambar kita dengan  ukuran pixel 28*28 dilakukan flatten jadi nya 784"
   ]
  },
  {
   "cell_type": "code",
   "execution_count": 12,
   "id": "5ce3bff7",
   "metadata": {},
   "outputs": [
    {
     "data": {
      "text/plain": [
       "Sequential(\n",
       "  (0): Linear(in_features=784, out_features=256, bias=True)\n",
       "  (1): ReLU()\n",
       "  (2): Dropout(p=0.3, inplace=False)\n",
       "  (3): Linear(in_features=256, out_features=64, bias=True)\n",
       "  (4): ReLU()\n",
       "  (5): Dropout(p=0.3, inplace=False)\n",
       "  (6): Linear(in_features=64, out_features=10, bias=True)\n",
       "  (7): LogSoftmax()\n",
       ")"
      ]
     },
     "execution_count": 12,
     "metadata": {},
     "output_type": "execute_result"
    }
   ],
   "source": [
    "nn.Sequential(\n",
    "    nn.Linear(784, 256),\n",
    "    nn.ReLU(),\n",
    "    nn.Dropout(0.3),\n",
    "    nn.Linear(256, 64),\n",
    "    nn.ReLU(),\n",
    "    nn.Dropout(0.3),\n",
    "    nn.Linear(64, 10),\n",
    "    nn.LogSoftmax(1)\n",
    ")"
   ]
  },
  {
   "cell_type": "markdown",
   "id": "be12c6be",
   "metadata": {},
   "source": [
    "## kita bisa menggunakan code orang lain guna meringkas dan mengurangi DRY (Don't Repeat Yourself)"
   ]
  },
  {
   "cell_type": "code",
   "execution_count": 13,
   "id": "b42f4fd3",
   "metadata": {},
   "outputs": [],
   "source": [
    "from jcopdl.layers import linear_block"
   ]
  },
  {
   "cell_type": "code",
   "execution_count": 14,
   "id": "4ed0293b",
   "metadata": {},
   "outputs": [
    {
     "data": {
      "text/plain": [
       "Sequential(\n",
       "  (0): Sequential(\n",
       "    (0): Linear(in_features=784, out_features=256, bias=True)\n",
       "    (1): ReLU()\n",
       "    (2): Dropout(p=0.3, inplace=False)\n",
       "  )\n",
       "  (1): Sequential(\n",
       "    (0): Linear(in_features=256, out_features=64, bias=True)\n",
       "    (1): ReLU()\n",
       "    (2): Dropout(p=0.3, inplace=False)\n",
       "  )\n",
       "  (2): Sequential(\n",
       "    (0): Linear(in_features=64, out_features=10, bias=True)\n",
       "    (1): LogSoftmax()\n",
       "  )\n",
       ")"
      ]
     },
     "execution_count": 14,
     "metadata": {},
     "output_type": "execute_result"
    }
   ],
   "source": [
    "nn.Sequential(\n",
    "    linear_block(784,256,dropout=0.3),\n",
    "    linear_block(256,64, dropout=0.3),\n",
    "    linear_block(64, 10, activation='lsoftmax')\n",
    "    \n",
    ")"
   ]
  },
  {
   "cell_type": "markdown",
   "id": "ab0c2c47",
   "metadata": {},
   "source": [
    "## kita buat class agar mempermudah dan mengurangi DRY dalam langkah Training Preparation (model), nanti kita bisa langsung panggil aja dan bisa kita buat custom arsitektur dalam menangani proyek seperti multitask learning"
   ]
  },
  {
   "cell_type": "markdown",
   "id": "8f6f748d",
   "metadata": {},
   "source": [
    "* inheritance dari class nn.Module"
   ]
  },
  {
   "cell_type": "code",
   "execution_count": 15,
   "id": "5ffce215",
   "metadata": {},
   "outputs": [],
   "source": [
    "class Fashion (nn.Module):\n",
    "    def __init__ (self, input_size, n_neuron1, n_neuron2, out_size, dropout):\n",
    "        super(). __init__()\n",
    "        self.model = nn.Sequential(\n",
    "            nn.Flatten(),\n",
    "            linear_block(input_size,n_neuron1, dropout=dropout),\n",
    "            linear_block(n_neuron1,n_neuron2 ,dropout=dropout),\n",
    "            linear_block(n_neuron2,out_size, activation='lsoftmax')\n",
    "        )\n",
    "    def forward (self, x):\n",
    "        return self.model(x)"
   ]
  },
  {
   "cell_type": "markdown",
   "id": "95da9a5e",
   "metadata": {},
   "source": [
    "# Training Preparation -> MCOC"
   ]
  },
  {
   "cell_type": "code",
   "execution_count": 16,
   "id": "7429bb76",
   "metadata": {},
   "outputs": [],
   "source": [
    "model= Fashion(784,256,64,10,0.3)"
   ]
  },
  {
   "cell_type": "code",
   "execution_count": 17,
   "id": "87f9423c",
   "metadata": {},
   "outputs": [],
   "source": [
    "criterion= nn.NLLLoss()"
   ]
  },
  {
   "cell_type": "code",
   "execution_count": 18,
   "id": "6be26859",
   "metadata": {},
   "outputs": [],
   "source": [
    "from torch import optim"
   ]
  },
  {
   "cell_type": "code",
   "execution_count": 19,
   "id": "38df76a5",
   "metadata": {},
   "outputs": [],
   "source": [
    "optimizer= optim.AdamW(model.parameters(), lr=0.001)"
   ]
  },
  {
   "cell_type": "markdown",
   "id": "b4d8966d",
   "metadata": {},
   "source": [
    "### ada tahapan tambahan sebelum masuk training preparation, \"config\" untuk menyimpan beberapa informasi untuk model kita"
   ]
  },
  {
   "cell_type": "code",
   "execution_count": 20,
   "id": "aa40beed",
   "metadata": {},
   "outputs": [],
   "source": [
    "config= set_config({\n",
    "    \"input_size\" : 784,\n",
    "    \"n_neuron1\" : 256,\n",
    "    \"n_neuron2\" : 64,\n",
    "    \"output_size\" :10,\n",
    "    \"dropout\": 0.3\n",
    "})"
   ]
  },
  {
   "cell_type": "code",
   "execution_count": 21,
   "id": "753f0ed4",
   "metadata": {},
   "outputs": [
    {
     "data": {
      "text/plain": [
       "10"
      ]
     },
     "execution_count": 21,
     "metadata": {},
     "output_type": "execute_result"
    }
   ],
   "source": [
    "config.output_size"
   ]
  },
  {
   "cell_type": "code",
   "execution_count": 22,
   "id": "23ba8d5d",
   "metadata": {},
   "outputs": [],
   "source": [
    "model= Fashion(config.input_size, config.n_neuron1, config.n_neuron2, config.output_size,config.dropout)"
   ]
  },
  {
   "cell_type": "code",
   "execution_count": 23,
   "id": "719380ab",
   "metadata": {},
   "outputs": [],
   "source": [
    "criterion= nn.NLLLoss()"
   ]
  },
  {
   "cell_type": "code",
   "execution_count": 24,
   "id": "e87a6061",
   "metadata": {},
   "outputs": [],
   "source": [
    "optimizer= optim.AdamW(model.parameters(), lr=0.001)"
   ]
  },
  {
   "cell_type": "markdown",
   "id": "446262b7",
   "metadata": {},
   "source": [
    "#### Callback merupakan package untuk mechine menentukan sendiri di epoch keberapa mechine harus berhenti guna mengambil model yang bagus"
   ]
  },
  {
   "cell_type": "code",
   "execution_count": 25,
   "id": "c7c43d23",
   "metadata": {},
   "outputs": [],
   "source": [
    "from jcopdl.callback import Callback"
   ]
  },
  {
   "cell_type": "code",
   "execution_count": 26,
   "id": "914bb3f1",
   "metadata": {},
   "outputs": [],
   "source": [
    "callback= Callback(model,config,outdir=\"model\")"
   ]
  },
  {
   "cell_type": "markdown",
   "id": "a89b07ac",
   "metadata": {},
   "source": [
    "* early_stop_patience ini lah yang membuat model kita akan berhenti epoch nya jika cost atau accuracy (tergantung apa yang mau dimonitor) mulai jelek daripada epoch sebelum nya."
   ]
  },
  {
   "cell_type": "code",
   "execution_count": 27,
   "id": "95bf5402",
   "metadata": {},
   "outputs": [],
   "source": [
    "from tqdm.auto import tqdm"
   ]
  },
  {
   "cell_type": "code",
   "execution_count": 28,
   "id": "e90a0451",
   "metadata": {},
   "outputs": [],
   "source": [
    "def loop_fn(mode, dataset, dataloader, model, creterion, optimizer, device):\n",
    "    if mode == \"train\":\n",
    "        model.train()\n",
    "    elif mode == \"test\":\n",
    "        model.eval()\n",
    "    cost=correct=0\n",
    "    for feature,target in tqdm(dataloader,desc = mode.title()):\n",
    "        feature,target= feature.to(device),target.to(device)\n",
    "        output= model(feature)\n",
    "        loss= criterion(output, target)\n",
    "        \n",
    "        if mode == \"train\":\n",
    "            loss.backward()\n",
    "            optimizer.step()\n",
    "            optimizer.zero_grad()\n",
    "            \n",
    "        cost+=loss.item()*feature.shape[0]\n",
    "        correct+=(output.argmax(1) == target).sum().item()\n",
    "    cost= cost/len(dataset)\n",
    "    acc= correct/len(dataset)\n",
    "    return cost, acc"
   ]
  },
  {
   "cell_type": "code",
   "execution_count": 29,
   "id": "5fd29f4f",
   "metadata": {
    "collapsed": true
   },
   "outputs": [
    {
     "data": {
      "application/vnd.jupyter.widget-view+json": {
       "model_id": "48fd084cb2b740da96e036d831778561",
       "version_major": 2,
       "version_minor": 0
      },
      "text/plain": [
       "HBox(children=(FloatProgress(value=0.0, description='Train', max=313.0, style=ProgressStyle(description_width=…"
      ]
     },
     "metadata": {},
     "output_type": "display_data"
    },
    {
     "name": "stdout",
     "output_type": "stream",
     "text": [
      "\n"
     ]
    },
    {
     "data": {
      "application/vnd.jupyter.widget-view+json": {
       "model_id": "0e23cc222ec44815b4419f3af99da646",
       "version_major": 2,
       "version_minor": 0
      },
      "text/plain": [
       "HBox(children=(FloatProgress(value=0.0, description='Test', max=157.0, style=ProgressStyle(description_width='…"
      ]
     },
     "metadata": {},
     "output_type": "display_data"
    },
    {
     "name": "stdout",
     "output_type": "stream",
     "text": [
      "\n",
      "\n",
      "Epoch     1\n",
      "Train_cost  = 0.7587 | Test_cost  = 0.4657 | Train_score = 0.7274 | Test_score = 0.8333 |\n"
     ]
    },
    {
     "data": {
      "application/vnd.jupyter.widget-view+json": {
       "model_id": "de6de71d11bc40bc994e38d86c1a4b5b",
       "version_major": 2,
       "version_minor": 0
      },
      "text/plain": [
       "HBox(children=(FloatProgress(value=0.0, description='Train', max=313.0, style=ProgressStyle(description_width=…"
      ]
     },
     "metadata": {},
     "output_type": "display_data"
    },
    {
     "name": "stdout",
     "output_type": "stream",
     "text": [
      "\n"
     ]
    },
    {
     "data": {
      "application/vnd.jupyter.widget-view+json": {
       "model_id": "1d73eba9b2ce4e1fb1f53adf486e9e67",
       "version_major": 2,
       "version_minor": 0
      },
      "text/plain": [
       "HBox(children=(FloatProgress(value=0.0, description='Test', max=157.0, style=ProgressStyle(description_width='…"
      ]
     },
     "metadata": {},
     "output_type": "display_data"
    },
    {
     "name": "stdout",
     "output_type": "stream",
     "text": [
      "\n",
      "\n",
      "Epoch     2\n",
      "Train_cost  = 0.4924 | Test_cost  = 0.4153 | Train_score = 0.8273 | Test_score = 0.8462 |\n"
     ]
    },
    {
     "data": {
      "application/vnd.jupyter.widget-view+json": {
       "model_id": "128e1d150deb47e0b3148e19cd6f5759",
       "version_major": 2,
       "version_minor": 0
      },
      "text/plain": [
       "HBox(children=(FloatProgress(value=0.0, description='Train', max=313.0, style=ProgressStyle(description_width=…"
      ]
     },
     "metadata": {},
     "output_type": "display_data"
    },
    {
     "name": "stdout",
     "output_type": "stream",
     "text": [
      "\n"
     ]
    },
    {
     "data": {
      "application/vnd.jupyter.widget-view+json": {
       "model_id": "ccd37e6b979c4d83baeab9215f415df2",
       "version_major": 2,
       "version_minor": 0
      },
      "text/plain": [
       "HBox(children=(FloatProgress(value=0.0, description='Test', max=157.0, style=ProgressStyle(description_width='…"
      ]
     },
     "metadata": {},
     "output_type": "display_data"
    },
    {
     "name": "stdout",
     "output_type": "stream",
     "text": [
      "\n",
      "\n",
      "Epoch     3\n",
      "Train_cost  = 0.4412 | Test_cost  = 0.3806 | Train_score = 0.8441 | Test_score = 0.8597 |\n"
     ]
    },
    {
     "data": {
      "application/vnd.jupyter.widget-view+json": {
       "model_id": "99be87a6d8bf4a2c8f87c46672a64112",
       "version_major": 2,
       "version_minor": 0
      },
      "text/plain": [
       "HBox(children=(FloatProgress(value=0.0, description='Train', max=313.0, style=ProgressStyle(description_width=…"
      ]
     },
     "metadata": {},
     "output_type": "display_data"
    },
    {
     "name": "stdout",
     "output_type": "stream",
     "text": [
      "\n"
     ]
    },
    {
     "data": {
      "application/vnd.jupyter.widget-view+json": {
       "model_id": "86e7d409119d44d2856e1c73d8ab7e68",
       "version_major": 2,
       "version_minor": 0
      },
      "text/plain": [
       "HBox(children=(FloatProgress(value=0.0, description='Test', max=157.0, style=ProgressStyle(description_width='…"
      ]
     },
     "metadata": {},
     "output_type": "display_data"
    },
    {
     "name": "stdout",
     "output_type": "stream",
     "text": [
      "\n",
      "\n",
      "Epoch     4\n",
      "Train_cost  = 0.4096 | Test_cost  = 0.3623 | Train_score = 0.8554 | Test_score = 0.8682 |\n"
     ]
    },
    {
     "data": {
      "application/vnd.jupyter.widget-view+json": {
       "model_id": "52f35c71c1bd426980eb47df8aa61eec",
       "version_major": 2,
       "version_minor": 0
      },
      "text/plain": [
       "HBox(children=(FloatProgress(value=0.0, description='Train', max=313.0, style=ProgressStyle(description_width=…"
      ]
     },
     "metadata": {},
     "output_type": "display_data"
    },
    {
     "name": "stdout",
     "output_type": "stream",
     "text": [
      "\n"
     ]
    },
    {
     "data": {
      "application/vnd.jupyter.widget-view+json": {
       "model_id": "2bfb128fb3ef44ddabfe8754bb454db1",
       "version_major": 2,
       "version_minor": 0
      },
      "text/plain": [
       "HBox(children=(FloatProgress(value=0.0, description='Test', max=157.0, style=ProgressStyle(description_width='…"
      ]
     },
     "metadata": {},
     "output_type": "display_data"
    },
    {
     "name": "stdout",
     "output_type": "stream",
     "text": [
      "\n",
      "\n",
      "Epoch     5\n",
      "Train_cost  = 0.3910 | Test_cost  = 0.3523 | Train_score = 0.8616 | Test_score = 0.8677 |\n",
      "\u001b[31m==> EarlyStop patience =  1 | Best test_score: 0.8682\u001b[0m\n"
     ]
    },
    {
     "data": {
      "application/vnd.jupyter.widget-view+json": {
       "model_id": "0936c3a9285a481cbcc2d1f4a284de9c",
       "version_major": 2,
       "version_minor": 0
      },
      "text/plain": [
       "HBox(children=(FloatProgress(value=0.0, description='Train', max=313.0, style=ProgressStyle(description_width=…"
      ]
     },
     "metadata": {},
     "output_type": "display_data"
    },
    {
     "name": "stdout",
     "output_type": "stream",
     "text": [
      "\n"
     ]
    },
    {
     "data": {
      "application/vnd.jupyter.widget-view+json": {
       "model_id": "381aad5c031242f5b2308965a89f4f2d",
       "version_major": 2,
       "version_minor": 0
      },
      "text/plain": [
       "HBox(children=(FloatProgress(value=0.0, description='Test', max=157.0, style=ProgressStyle(description_width='…"
      ]
     },
     "metadata": {},
     "output_type": "display_data"
    },
    {
     "name": "stdout",
     "output_type": "stream",
     "text": [
      "\n",
      "\n",
      "Epoch     6\n",
      "Train_cost  = 0.3726 | Test_cost  = 0.3501 | Train_score = 0.8659 | Test_score = 0.8708 |\n"
     ]
    },
    {
     "data": {
      "application/vnd.jupyter.widget-view+json": {
       "model_id": "e2fa6e43fe984274b5da5e0c3a4c50b0",
       "version_major": 2,
       "version_minor": 0
      },
      "text/plain": [
       "HBox(children=(FloatProgress(value=0.0, description='Train', max=313.0, style=ProgressStyle(description_width=…"
      ]
     },
     "metadata": {},
     "output_type": "display_data"
    },
    {
     "name": "stdout",
     "output_type": "stream",
     "text": [
      "\n"
     ]
    },
    {
     "data": {
      "application/vnd.jupyter.widget-view+json": {
       "model_id": "7010001ad3064b29b748945a9da1deaf",
       "version_major": 2,
       "version_minor": 0
      },
      "text/plain": [
       "HBox(children=(FloatProgress(value=0.0, description='Test', max=157.0, style=ProgressStyle(description_width='…"
      ]
     },
     "metadata": {},
     "output_type": "display_data"
    },
    {
     "name": "stdout",
     "output_type": "stream",
     "text": [
      "\n",
      "\n",
      "Epoch     7\n",
      "Train_cost  = 0.3609 | Test_cost  = 0.3323 | Train_score = 0.8703 | Test_score = 0.8772 |\n"
     ]
    },
    {
     "data": {
      "application/vnd.jupyter.widget-view+json": {
       "model_id": "e6ad2d5a976c43c19b10900cf8804e37",
       "version_major": 2,
       "version_minor": 0
      },
      "text/plain": [
       "HBox(children=(FloatProgress(value=0.0, description='Train', max=313.0, style=ProgressStyle(description_width=…"
      ]
     },
     "metadata": {},
     "output_type": "display_data"
    },
    {
     "name": "stdout",
     "output_type": "stream",
     "text": [
      "\n"
     ]
    },
    {
     "data": {
      "application/vnd.jupyter.widget-view+json": {
       "model_id": "896934279ac5441cb3880707518d60f1",
       "version_major": 2,
       "version_minor": 0
      },
      "text/plain": [
       "HBox(children=(FloatProgress(value=0.0, description='Test', max=157.0, style=ProgressStyle(description_width='…"
      ]
     },
     "metadata": {},
     "output_type": "display_data"
    },
    {
     "name": "stdout",
     "output_type": "stream",
     "text": [
      "\n",
      "\n",
      "Epoch     8\n",
      "Train_cost  = 0.3513 | Test_cost  = 0.3301 | Train_score = 0.8731 | Test_score = 0.8776 |\n"
     ]
    },
    {
     "data": {
      "application/vnd.jupyter.widget-view+json": {
       "model_id": "e4e47694d2934dd697bb34e49f92e868",
       "version_major": 2,
       "version_minor": 0
      },
      "text/plain": [
       "HBox(children=(FloatProgress(value=0.0, description='Train', max=313.0, style=ProgressStyle(description_width=…"
      ]
     },
     "metadata": {},
     "output_type": "display_data"
    },
    {
     "name": "stdout",
     "output_type": "stream",
     "text": [
      "\n"
     ]
    },
    {
     "data": {
      "application/vnd.jupyter.widget-view+json": {
       "model_id": "8566aad705fb4259821def313d0f5174",
       "version_major": 2,
       "version_minor": 0
      },
      "text/plain": [
       "HBox(children=(FloatProgress(value=0.0, description='Test', max=157.0, style=ProgressStyle(description_width='…"
      ]
     },
     "metadata": {},
     "output_type": "display_data"
    },
    {
     "name": "stdout",
     "output_type": "stream",
     "text": [
      "\n",
      "\n",
      "Epoch     9\n",
      "Train_cost  = 0.3380 | Test_cost  = 0.3406 | Train_score = 0.8786 | Test_score = 0.8754 |\n",
      "\u001b[31m==> EarlyStop patience =  1 | Best test_score: 0.8776\u001b[0m\n"
     ]
    },
    {
     "data": {
      "application/vnd.jupyter.widget-view+json": {
       "model_id": "0010561c6c2b4cc08c9e203309e5d6d6",
       "version_major": 2,
       "version_minor": 0
      },
      "text/plain": [
       "HBox(children=(FloatProgress(value=0.0, description='Train', max=313.0, style=ProgressStyle(description_width=…"
      ]
     },
     "metadata": {},
     "output_type": "display_data"
    },
    {
     "name": "stdout",
     "output_type": "stream",
     "text": [
      "\n"
     ]
    },
    {
     "data": {
      "application/vnd.jupyter.widget-view+json": {
       "model_id": "eb263016347b43f998ea93a971d4070f",
       "version_major": 2,
       "version_minor": 0
      },
      "text/plain": [
       "HBox(children=(FloatProgress(value=0.0, description='Test', max=157.0, style=ProgressStyle(description_width='…"
      ]
     },
     "metadata": {},
     "output_type": "display_data"
    },
    {
     "name": "stdout",
     "output_type": "stream",
     "text": [
      "\n",
      "\n",
      "Epoch    10\n",
      "Train_cost  = 0.3336 | Test_cost  = 0.3241 | Train_score = 0.8789 | Test_score = 0.8814 |\n"
     ]
    },
    {
     "data": {
      "application/vnd.jupyter.widget-view+json": {
       "model_id": "bf77f75096004561b3e523d5b5eb5cd1",
       "version_major": 2,
       "version_minor": 0
      },
      "text/plain": [
       "HBox(children=(FloatProgress(value=0.0, description='Train', max=313.0, style=ProgressStyle(description_width=…"
      ]
     },
     "metadata": {},
     "output_type": "display_data"
    },
    {
     "name": "stdout",
     "output_type": "stream",
     "text": [
      "\n"
     ]
    },
    {
     "data": {
      "application/vnd.jupyter.widget-view+json": {
       "model_id": "8352f8c05dfb4e559bb6ec2e3b892c63",
       "version_major": 2,
       "version_minor": 0
      },
      "text/plain": [
       "HBox(children=(FloatProgress(value=0.0, description='Test', max=157.0, style=ProgressStyle(description_width='…"
      ]
     },
     "metadata": {},
     "output_type": "display_data"
    },
    {
     "name": "stdout",
     "output_type": "stream",
     "text": [
      "\n",
      "\n",
      "Epoch    11\n",
      "Train_cost  = 0.3233 | Test_cost  = 0.3307 | Train_score = 0.8839 | Test_score = 0.8795 |\n",
      "\u001b[31m==> EarlyStop patience =  1 | Best test_score: 0.8814\u001b[0m\n"
     ]
    },
    {
     "data": {
      "application/vnd.jupyter.widget-view+json": {
       "model_id": "cb3d6b68eb3041a7910bd2cafc379579",
       "version_major": 2,
       "version_minor": 0
      },
      "text/plain": [
       "HBox(children=(FloatProgress(value=0.0, description='Train', max=313.0, style=ProgressStyle(description_width=…"
      ]
     },
     "metadata": {},
     "output_type": "display_data"
    },
    {
     "name": "stdout",
     "output_type": "stream",
     "text": [
      "\n"
     ]
    },
    {
     "data": {
      "application/vnd.jupyter.widget-view+json": {
       "model_id": "b1629a2bc35f4649aacd2b9272b3c810",
       "version_major": 2,
       "version_minor": 0
      },
      "text/plain": [
       "HBox(children=(FloatProgress(value=0.0, description='Test', max=157.0, style=ProgressStyle(description_width='…"
      ]
     },
     "metadata": {},
     "output_type": "display_data"
    },
    {
     "name": "stdout",
     "output_type": "stream",
     "text": [
      "\n",
      "\n",
      "Epoch    12\n",
      "Train_cost  = 0.3161 | Test_cost  = 0.3168 | Train_score = 0.8869 | Test_score = 0.8835 |\n"
     ]
    },
    {
     "data": {
      "application/vnd.jupyter.widget-view+json": {
       "model_id": "e4ac7fd43e2e45969860da13ae783629",
       "version_major": 2,
       "version_minor": 0
      },
      "text/plain": [
       "HBox(children=(FloatProgress(value=0.0, description='Train', max=313.0, style=ProgressStyle(description_width=…"
      ]
     },
     "metadata": {},
     "output_type": "display_data"
    },
    {
     "name": "stdout",
     "output_type": "stream",
     "text": [
      "\n"
     ]
    },
    {
     "data": {
      "application/vnd.jupyter.widget-view+json": {
       "model_id": "262afb98946e479dab19f15ee55cac03",
       "version_major": 2,
       "version_minor": 0
      },
      "text/plain": [
       "HBox(children=(FloatProgress(value=0.0, description='Test', max=157.0, style=ProgressStyle(description_width='…"
      ]
     },
     "metadata": {},
     "output_type": "display_data"
    },
    {
     "name": "stdout",
     "output_type": "stream",
     "text": [
      "\n",
      "\n",
      "Epoch    13\n",
      "Train_cost  = 0.3059 | Test_cost  = 0.3243 | Train_score = 0.8899 | Test_score = 0.8811 |\n",
      "\u001b[31m==> EarlyStop patience =  1 | Best test_score: 0.8835\u001b[0m\n"
     ]
    },
    {
     "data": {
      "application/vnd.jupyter.widget-view+json": {
       "model_id": "940ebebad22b4d468a01ec6e652b9e8c",
       "version_major": 2,
       "version_minor": 0
      },
      "text/plain": [
       "HBox(children=(FloatProgress(value=0.0, description='Train', max=313.0, style=ProgressStyle(description_width=…"
      ]
     },
     "metadata": {},
     "output_type": "display_data"
    },
    {
     "name": "stdout",
     "output_type": "stream",
     "text": [
      "\n"
     ]
    },
    {
     "data": {
      "application/vnd.jupyter.widget-view+json": {
       "model_id": "d5d6c6daf94a486a9c81d9fe63a0b4f2",
       "version_major": 2,
       "version_minor": 0
      },
      "text/plain": [
       "HBox(children=(FloatProgress(value=0.0, description='Test', max=157.0, style=ProgressStyle(description_width='…"
      ]
     },
     "metadata": {},
     "output_type": "display_data"
    },
    {
     "name": "stdout",
     "output_type": "stream",
     "text": [
      "\n",
      "\n",
      "Epoch    14\n",
      "Train_cost  = 0.3032 | Test_cost  = 0.3336 | Train_score = 0.8905 | Test_score = 0.8799 |\n",
      "\u001b[31m==> EarlyStop patience =  2 | Best test_score: 0.8835\u001b[0m\n"
     ]
    },
    {
     "data": {
      "application/vnd.jupyter.widget-view+json": {
       "model_id": "160b1b797ae54e9498a4de6abcd6a6a2",
       "version_major": 2,
       "version_minor": 0
      },
      "text/plain": [
       "HBox(children=(FloatProgress(value=0.0, description='Train', max=313.0, style=ProgressStyle(description_width=…"
      ]
     },
     "metadata": {},
     "output_type": "display_data"
    },
    {
     "name": "stdout",
     "output_type": "stream",
     "text": [
      "\n"
     ]
    },
    {
     "data": {
      "application/vnd.jupyter.widget-view+json": {
       "model_id": "41cc1195b8a84a01a1cdbeb9ea22264e",
       "version_major": 2,
       "version_minor": 0
      },
      "text/plain": [
       "HBox(children=(FloatProgress(value=0.0, description='Test', max=157.0, style=ProgressStyle(description_width='…"
      ]
     },
     "metadata": {},
     "output_type": "display_data"
    },
    {
     "name": "stdout",
     "output_type": "stream",
     "text": [
      "\n",
      "\n",
      "Epoch    15\n",
      "Train_cost  = 0.2983 | Test_cost  = 0.3190 | Train_score = 0.8927 | Test_score = 0.8829 |\n",
      "\u001b[31m==> EarlyStop patience =  3 | Best test_score: 0.8835\u001b[0m\n"
     ]
    },
    {
     "data": {
      "application/vnd.jupyter.widget-view+json": {
       "model_id": "bfaef69d6fa346a087220bf5e3ee2c4f",
       "version_major": 2,
       "version_minor": 0
      },
      "text/plain": [
       "HBox(children=(FloatProgress(value=0.0, description='Train', max=313.0, style=ProgressStyle(description_width=…"
      ]
     },
     "metadata": {},
     "output_type": "display_data"
    },
    {
     "name": "stdout",
     "output_type": "stream",
     "text": [
      "\n"
     ]
    },
    {
     "data": {
      "application/vnd.jupyter.widget-view+json": {
       "model_id": "0613b53c68764a4f98da407881bcc90b",
       "version_major": 2,
       "version_minor": 0
      },
      "text/plain": [
       "HBox(children=(FloatProgress(value=0.0, description='Test', max=157.0, style=ProgressStyle(description_width='…"
      ]
     },
     "metadata": {},
     "output_type": "display_data"
    },
    {
     "name": "stdout",
     "output_type": "stream",
     "text": [
      "\n",
      "\n",
      "Epoch    16\n",
      "Train_cost  = 0.2923 | Test_cost  = 0.3138 | Train_score = 0.8925 | Test_score = 0.8890 |\n"
     ]
    },
    {
     "data": {
      "application/vnd.jupyter.widget-view+json": {
       "model_id": "50777bb61c1d45fb826f82d7216b9e4a",
       "version_major": 2,
       "version_minor": 0
      },
      "text/plain": [
       "HBox(children=(FloatProgress(value=0.0, description='Train', max=313.0, style=ProgressStyle(description_width=…"
      ]
     },
     "metadata": {},
     "output_type": "display_data"
    },
    {
     "name": "stdout",
     "output_type": "stream",
     "text": [
      "\n"
     ]
    },
    {
     "data": {
      "application/vnd.jupyter.widget-view+json": {
       "model_id": "48f1af0a9f144ef89fc1d7c9b74441e4",
       "version_major": 2,
       "version_minor": 0
      },
      "text/plain": [
       "HBox(children=(FloatProgress(value=0.0, description='Test', max=157.0, style=ProgressStyle(description_width='…"
      ]
     },
     "metadata": {},
     "output_type": "display_data"
    },
    {
     "name": "stdout",
     "output_type": "stream",
     "text": [
      "\n",
      "\n",
      "Epoch    17\n",
      "Train_cost  = 0.2871 | Test_cost  = 0.3146 | Train_score = 0.8946 | Test_score = 0.8852 |\n",
      "\u001b[31m==> EarlyStop patience =  1 | Best test_score: 0.8890\u001b[0m\n"
     ]
    },
    {
     "data": {
      "application/vnd.jupyter.widget-view+json": {
       "model_id": "4107372c2a9c498ea33a69c00ce70d85",
       "version_major": 2,
       "version_minor": 0
      },
      "text/plain": [
       "HBox(children=(FloatProgress(value=0.0, description='Train', max=313.0, style=ProgressStyle(description_width=…"
      ]
     },
     "metadata": {},
     "output_type": "display_data"
    },
    {
     "name": "stdout",
     "output_type": "stream",
     "text": [
      "\n"
     ]
    },
    {
     "data": {
      "application/vnd.jupyter.widget-view+json": {
       "model_id": "1f07a439eeef4d2da44d90ab8f44a0cf",
       "version_major": 2,
       "version_minor": 0
      },
      "text/plain": [
       "HBox(children=(FloatProgress(value=0.0, description='Test', max=157.0, style=ProgressStyle(description_width='…"
      ]
     },
     "metadata": {},
     "output_type": "display_data"
    },
    {
     "name": "stdout",
     "output_type": "stream",
     "text": [
      "\n",
      "\n",
      "Epoch    18\n",
      "Train_cost  = 0.2827 | Test_cost  = 0.3058 | Train_score = 0.8966 | Test_score = 0.8865 |\n",
      "\u001b[31m==> EarlyStop patience =  2 | Best test_score: 0.8890\u001b[0m\n"
     ]
    },
    {
     "data": {
      "application/vnd.jupyter.widget-view+json": {
       "model_id": "20d92fb07c7a4b67ab8b49e991863ca1",
       "version_major": 2,
       "version_minor": 0
      },
      "text/plain": [
       "HBox(children=(FloatProgress(value=0.0, description='Train', max=313.0, style=ProgressStyle(description_width=…"
      ]
     },
     "metadata": {},
     "output_type": "display_data"
    },
    {
     "name": "stdout",
     "output_type": "stream",
     "text": [
      "\n"
     ]
    },
    {
     "data": {
      "application/vnd.jupyter.widget-view+json": {
       "model_id": "4a802208ea264f3dbff575d46d1e5ce3",
       "version_major": 2,
       "version_minor": 0
      },
      "text/plain": [
       "HBox(children=(FloatProgress(value=0.0, description='Test', max=157.0, style=ProgressStyle(description_width='…"
      ]
     },
     "metadata": {},
     "output_type": "display_data"
    },
    {
     "name": "stdout",
     "output_type": "stream",
     "text": [
      "\n",
      "\n",
      "Epoch    19\n",
      "Train_cost  = 0.2791 | Test_cost  = 0.3291 | Train_score = 0.8979 | Test_score = 0.8801 |\n",
      "\u001b[31m==> EarlyStop patience =  3 | Best test_score: 0.8890\u001b[0m\n"
     ]
    },
    {
     "data": {
      "application/vnd.jupyter.widget-view+json": {
       "model_id": "c0dacd84026e435fbc54ad0e332c59f4",
       "version_major": 2,
       "version_minor": 0
      },
      "text/plain": [
       "HBox(children=(FloatProgress(value=0.0, description='Train', max=313.0, style=ProgressStyle(description_width=…"
      ]
     },
     "metadata": {},
     "output_type": "display_data"
    },
    {
     "name": "stdout",
     "output_type": "stream",
     "text": [
      "\n"
     ]
    },
    {
     "data": {
      "application/vnd.jupyter.widget-view+json": {
       "model_id": "88ff0ba3d6d044d58df319d6fccf2599",
       "version_major": 2,
       "version_minor": 0
      },
      "text/plain": [
       "HBox(children=(FloatProgress(value=0.0, description='Test', max=157.0, style=ProgressStyle(description_width='…"
      ]
     },
     "metadata": {},
     "output_type": "display_data"
    },
    {
     "name": "stdout",
     "output_type": "stream",
     "text": [
      "\n",
      "\n",
      "Epoch    20\n",
      "Train_cost  = 0.2754 | Test_cost  = 0.3105 | Train_score = 0.8996 | Test_score = 0.8887 |\n"
     ]
    },
    {
     "data": {
      "image/png": "[encoded data removed]",
      "text/plain": [
       "<Figure size 576x360 with 1 Axes>"
      ]
     },
     "metadata": {
      "needs_background": "light"
     },
     "output_type": "display_data"
    },
    {
     "data": {
      "image/png": "[encoded data removed]",
      "text/plain": [
       "<Figure size 576x360 with 1 Axes>"
      ]
     },
     "metadata": {
      "needs_background": "light"
     },
     "output_type": "display_data"
    },
    {
     "name": "stdout",
     "output_type": "stream",
     "text": [
      "\u001b[31m==> EarlyStop patience =  4 | Best test_score: 0.8890\u001b[0m\n"
     ]
    },
    {
     "data": {
      "application/vnd.jupyter.widget-view+json": {
       "model_id": "a52c291ee7b940068feec9ee243e5aa7",
       "version_major": 2,
       "version_minor": 0
      },
      "text/plain": [
       "HBox(children=(FloatProgress(value=0.0, description='Train', max=313.0, style=ProgressStyle(description_width=…"
      ]
     },
     "metadata": {},
     "output_type": "display_data"
    },
    {
     "name": "stdout",
     "output_type": "stream",
     "text": [
      "\n"
     ]
    },
    {
     "data": {
      "application/vnd.jupyter.widget-view+json": {
       "model_id": "a45c74cb5b154e4f8ce91b79c9fde5bc",
       "version_major": 2,
       "version_minor": 0
      },
      "text/plain": [
       "HBox(children=(FloatProgress(value=0.0, description='Test', max=157.0, style=ProgressStyle(description_width='…"
      ]
     },
     "metadata": {},
     "output_type": "display_data"
    },
    {
     "name": "stdout",
     "output_type": "stream",
     "text": [
      "\n",
      "\n",
      "Epoch    21\n",
      "Train_cost  = 0.2713 | Test_cost  = 0.3169 | Train_score = 0.9007 | Test_score = 0.8869 |\n",
      "\u001b[31m==> EarlyStop patience =  5 | Best test_score: 0.8890\u001b[0m\n",
      "\u001b[31m==> Execute Early Stopping at epoch: 21 | Best test_score: 0.8890\u001b[0m\n",
      "\u001b[31m==> Best model is saved at model\u001b[0m\n"
     ]
    },
    {
     "data": {
      "image/png": "[encoded data removed]",
      "text/plain": [
       "<Figure size 576x360 with 1 Axes>"
      ]
     },
     "metadata": {
      "needs_background": "light"
     },
     "output_type": "display_data"
    },
    {
     "data": {
      "image/png": "[encoded data removed]",
      "text/plain": [
       "<Figure size 576x360 with 1 Axes>"
      ]
     },
     "metadata": {
      "needs_background": "light"
     },
     "output_type": "display_data"
    }
   ],
   "source": [
    "while True:\n",
    "    train_cost, train_score = loop_fn(\"train\",train_set,train_loader,model,criterion,optimizer,device) \n",
    "    with torch.no_grad():\n",
    "        test_cost,test_score= loop_fn(\"test\",test_set,test_loader,model,criterion,optimizer,device) \n",
    "        \n",
    "    callback.log(train_cost,test_cost,train_score,test_score)\n",
    "    \n",
    "    callback.save_checkpoint()\n",
    "    callback.cost_runtime_plotting()\n",
    "    callback.score_runtime_plotting()\n",
    "    \n",
    "    if callback.early_stopping(model, monitor=\"test_score\"):\n",
    "        callback.plot_cost()\n",
    "        callback.plot_score()\n",
    "        break"
   ]
  },
  {
   "cell_type": "code",
   "execution_count": 30,
   "id": "1446c902",
   "metadata": {},
   "outputs": [],
   "source": [
    "import matplotlib.pyplot as plt"
   ]
  },
  {
   "cell_type": "code",
   "execution_count": 42,
   "id": "9690237b",
   "metadata": {},
   "outputs": [],
   "source": [
    "feature,target= next(iter(test_loader))\n",
    "feature, target = feature.to(device), target.to(device)"
   ]
  },
  {
   "cell_type": "code",
   "execution_count": 43,
   "id": "0dffda29",
   "metadata": {},
   "outputs": [
    {
     "data": {
      "text/plain": [
       "tensor([0, 1, 1, 9, 4, 3, 3, 5, 7, 7, 8, 5, 3, 3, 0, 3, 1, 2, 9, 2, 5, 7, 5, 8,\n",
       "        8, 2, 4, 1, 3, 8, 2, 1, 5, 1, 2, 3, 3, 4, 9, 9, 5, 2, 3, 7, 5, 4, 4, 0,\n",
       "        2, 3, 6, 4, 9, 7, 7, 7, 8, 2, 6, 7, 5, 9, 0, 4, 6, 0, 3, 2, 1, 6, 6, 5,\n",
       "        1, 6, 0, 1, 6, 3, 5, 3, 4, 5, 4, 4, 1, 8, 3, 3, 5, 6, 5, 4, 4, 0, 9, 4,\n",
       "        2, 1, 7, 2, 4, 0, 8, 0, 6, 1, 9, 0, 3, 8, 3, 2, 7, 1, 7, 4, 7, 9, 4, 5,\n",
       "        3, 6, 6, 5, 0, 2, 1, 8])"
      ]
     },
     "execution_count": 43,
     "metadata": {},
     "output_type": "execute_result"
    }
   ],
   "source": [
    "with torch.no_grad():\n",
    "    model.eval()\n",
    "    output = model(feature)\n",
    "    pred = output.argmax(1)\n",
    "pred"
   ]
  },
  {
   "cell_type": "code",
   "execution_count": 44,
   "id": "0747a270",
   "metadata": {},
   "outputs": [
    {
     "data": {
      "image/png": "[encoded data removed]",
      "text/plain": [
       "<Figure size 1728x1728 with 36 Axes>"
      ]
     },
     "metadata": {
      "needs_background": "light"
     },
     "output_type": "display_data"
    }
   ],
   "source": [
    "fig, axes= plt.subplots(6, 6, figsize= (24, 24))\n",
    "for img, label,pred, ax in zip(feature, target, pred,axes.flatten()):\n",
    "    ax.imshow(img.view(28,28).cpu(), cmap='gray')\n",
    "    font = {\"color\":\"r\"} if label != pred else {\"color\" :\"g\"}\n",
    "    label,pred = label2cat[label.item()], label2cat[pred.item()]\n",
    "    ax.set_title(f\"L: {label}| pred: {pred}\",fontdict=font);\n",
    "    ax.axis(\"off\");"
   ]
  },
  {
   "cell_type": "code",
   "execution_count": null,
   "id": "7b036af4",
   "metadata": {},
   "outputs": [],
   "source": []
  },
  {
   "cell_type": "code",
   "execution_count": null,
   "id": "8cd70c89",
   "metadata": {},
   "outputs": [],
   "source": []
  },
  {
   "cell_type": "code",
   "execution_count": null,
   "id": "32a91f77",
   "metadata": {},
   "outputs": [],
   "source": []
  },
  {
   "cell_type": "code",
   "execution_count": null,
   "id": "a3f28ab3",
   "metadata": {},
   "outputs": [],
   "source": []
  },
  {
   "cell_type": "code",
   "execution_count": null,
   "id": "2c36e88e",
   "metadata": {},
   "outputs": [],
   "source": []
  },
  {
   "cell_type": "code",
   "execution_count": null,
   "id": "9c0f6fc5",
   "metadata": {},
   "outputs": [],
   "source": []
  },
  {
   "cell_type": "code",
   "execution_count": null,
   "id": "b87e139c",
   "metadata": {},
   "outputs": [],
   "source": []
  }
 ],
 "metadata": {
  "kernelspec": {
   "display_name": "Python [conda env:jcop]",
   "language": "python",
   "name": "conda-env-jcop-py"
  },
  "language_info": {
   "codemirror_mode": {
    "name": "ipython",
    "version": 3
   },
   "file_extension": ".py",
   "mimetype": "text/x-python",
   "name": "python",
   "nbconvert_exporter": "python",
   "pygments_lexer": "ipython3",
   "version": "3.7.6"
  }
 },
 "nbformat": 4,
 "nbformat_minor": 5
}
