{
 "cells": [
  {
   "cell_type": "markdown",
   "id": "5af332b3",
   "metadata": {},
   "source": [
    "# Callback merupakan package untuk mechine menentukan sendiri di epoch keberapa mechine harus berhenti guna mengambil model yang bagus"
   ]
  },
  {
   "cell_type": "code",
   "execution_count": 1,
   "id": "36de7284",
   "metadata": {},
   "outputs": [],
   "source": [
    "from jcopdl.callback import Callback,set_config"
   ]
  },
  {
   "cell_type": "code",
   "execution_count": 2,
   "id": "70b396c4",
   "metadata": {},
   "outputs": [],
   "source": [
    "import torch"
   ]
  },
  {
   "cell_type": "markdown",
   "id": "db877bed",
   "metadata": {},
   "source": [
    "### package untuk mempermudah load data image\n",
    "\n",
    "* format atau path datanya harus sesuai dengan -> data/train atau test/nama tiap feature data/ feature keberapa\n",
    "* di torchvision class datasets fungsi ImageFolder"
   ]
  },
  {
   "cell_type": "code",
   "execution_count": 3,
   "id": "ea6e776f",
   "metadata": {
    "scrolled": true
   },
   "outputs": [
    {
     "data": {
      "text/plain": [
       "device(type='cpu')"
      ]
     },
     "execution_count": 3,
     "metadata": {},
     "output_type": "execute_result"
    }
   ],
   "source": [
    "device= torch.device(\"cuda\" if torch.cuda.is_available() else \"cpu\")\n",
    "device"
   ]
  },
  {
   "cell_type": "code",
   "execution_count": 4,
   "id": "dfca8e7c",
   "metadata": {},
   "outputs": [],
   "source": [
    "import pandas as pd"
   ]
  },
  {
   "cell_type": "code",
   "execution_count": 5,
   "id": "fb25c7da",
   "metadata": {
    "scrolled": true
   },
   "outputs": [
    {
     "data": {
      "text/html": [
       "<div>\n",
       "<style scoped>\n",
       "    .dataframe tbody tr th:only-of-type {\n",
       "        vertical-align: middle;\n",
       "    }\n",
       "\n",
       "    .dataframe tbody tr th {\n",
       "        vertical-align: top;\n",
       "    }\n",
       "\n",
       "    .dataframe thead th {\n",
       "        text-align: right;\n",
       "    }\n",
       "</style>\n",
       "<table border=\"1\" class=\"dataframe\">\n",
       "  <thead>\n",
       "    <tr style=\"text-align: right;\">\n",
       "      <th></th>\n",
       "      <th>tahun_10</th>\n",
       "      <th>tahun_11</th>\n",
       "      <th>tahun_12</th>\n",
       "      <th>tahun_13</th>\n",
       "      <th>target_14</th>\n",
       "    </tr>\n",
       "  </thead>\n",
       "  <tbody>\n",
       "    <tr>\n",
       "      <th>0</th>\n",
       "      <td>41.3</td>\n",
       "      <td>34.96</td>\n",
       "      <td>35.25</td>\n",
       "      <td>40.11</td>\n",
       "      <td>38.82</td>\n",
       "    </tr>\n",
       "    <tr>\n",
       "      <th>1</th>\n",
       "      <td>62.4</td>\n",
       "      <td>52.82</td>\n",
       "      <td>53.01</td>\n",
       "      <td>54.18</td>\n",
       "      <td>52.39</td>\n",
       "    </tr>\n",
       "    <tr>\n",
       "      <th>2</th>\n",
       "      <td>32.5</td>\n",
       "      <td>27.51</td>\n",
       "      <td>27.68</td>\n",
       "      <td>29.60</td>\n",
       "      <td>29.40</td>\n",
       "    </tr>\n",
       "    <tr>\n",
       "      <th>3</th>\n",
       "      <td>72.3</td>\n",
       "      <td>61.20</td>\n",
       "      <td>61.75</td>\n",
       "      <td>68.58</td>\n",
       "      <td>67.61</td>\n",
       "    </tr>\n",
       "    <tr>\n",
       "      <th>4</th>\n",
       "      <td>75.0</td>\n",
       "      <td>63.58</td>\n",
       "      <td>63.85</td>\n",
       "      <td>64.02</td>\n",
       "      <td>61.07</td>\n",
       "    </tr>\n",
       "    <tr>\n",
       "      <th>5</th>\n",
       "      <td>16.5</td>\n",
       "      <td>13.97</td>\n",
       "      <td>14.11</td>\n",
       "      <td>13.72</td>\n",
       "      <td>13.62</td>\n",
       "    </tr>\n",
       "    <tr>\n",
       "      <th>6</th>\n",
       "      <td>38.2</td>\n",
       "      <td>32.34</td>\n",
       "      <td>32.66</td>\n",
       "      <td>32.46</td>\n",
       "      <td>32.29</td>\n",
       "    </tr>\n",
       "    <tr>\n",
       "      <th>7</th>\n",
       "      <td>36.7</td>\n",
       "      <td>31.07</td>\n",
       "      <td>31.26</td>\n",
       "      <td>34.71</td>\n",
       "      <td>33.52</td>\n",
       "    </tr>\n",
       "    <tr>\n",
       "      <th>8</th>\n",
       "      <td>44.4</td>\n",
       "      <td>37.59</td>\n",
       "      <td>38.28</td>\n",
       "      <td>43.55</td>\n",
       "      <td>42.67</td>\n",
       "    </tr>\n",
       "    <tr>\n",
       "      <th>9</th>\n",
       "      <td>51.7</td>\n",
       "      <td>43.77</td>\n",
       "      <td>44.02</td>\n",
       "      <td>47.47</td>\n",
       "      <td>46.07</td>\n",
       "    </tr>\n",
       "    <tr>\n",
       "      <th>10</th>\n",
       "      <td>62.4</td>\n",
       "      <td>52.82</td>\n",
       "      <td>53.55</td>\n",
       "      <td>59.85</td>\n",
       "      <td>58.29</td>\n",
       "    </tr>\n",
       "    <tr>\n",
       "      <th>11</th>\n",
       "      <td>24.6</td>\n",
       "      <td>20.83</td>\n",
       "      <td>21.04</td>\n",
       "      <td>23.21</td>\n",
       "      <td>22.54</td>\n",
       "    </tr>\n",
       "  </tbody>\n",
       "</table>\n",
       "</div>"
      ],
      "text/plain": [
       "    tahun_10  tahun_11  tahun_12  tahun_13  target_14\n",
       "0       41.3     34.96     35.25     40.11      38.82\n",
       "1       62.4     52.82     53.01     54.18      52.39\n",
       "2       32.5     27.51     27.68     29.60      29.40\n",
       "3       72.3     61.20     61.75     68.58      67.61\n",
       "4       75.0     63.58     63.85     64.02      61.07\n",
       "5       16.5     13.97     14.11     13.72      13.62\n",
       "6       38.2     32.34     32.66     32.46      32.29\n",
       "7       36.7     31.07     31.26     34.71      33.52\n",
       "8       44.4     37.59     38.28     43.55      42.67\n",
       "9       51.7     43.77     44.02     47.47      46.07\n",
       "10      62.4     52.82     53.55     59.85      58.29\n",
       "11      24.6     20.83     21.04     23.21      22.54"
      ]
     },
     "execution_count": 5,
     "metadata": {},
     "output_type": "execute_result"
    }
   ],
   "source": [
    "df = pd.read_csv(\"data/jansen_kemiskinan.csv\")\n",
    "df"
   ]
  },
  {
   "cell_type": "code",
   "execution_count": 6,
   "id": "df099feb",
   "metadata": {},
   "outputs": [],
   "source": [
    "from sklearn.model_selection import train_test_split\n",
    "from sklearn.compose import ColumnTransformer\n",
    "from jcopml.pipeline import num_pipe"
   ]
  },
  {
   "cell_type": "code",
   "execution_count": 7,
   "id": "df891d62",
   "metadata": {},
   "outputs": [
    {
     "data": {
      "text/plain": [
       "((9, 4), (3, 4), (9,), (3,))"
      ]
     },
     "execution_count": 7,
     "metadata": {},
     "output_type": "execute_result"
    }
   ],
   "source": [
    "X = df.drop(columns=\"target_14\")\n",
    "y=df.target_14.values\n",
    "\n",
    "X_train, X_test, y_train, y_test = train_test_split(X, y, test_size=0.2,random_state=42)\n",
    "X_train.shape, X_test.shape, y_train.shape, y_test.shape"
   ]
  },
  {
   "cell_type": "code",
   "execution_count": 8,
   "id": "5eb03901",
   "metadata": {},
   "outputs": [],
   "source": [
    "preprocessing= ColumnTransformer([\n",
    "    (\"numerik\", num_pipe(), X_train.columns)\n",
    "])"
   ]
  },
  {
   "cell_type": "code",
   "execution_count": 9,
   "id": "4f67a9f0",
   "metadata": {},
   "outputs": [],
   "source": [
    "X_train= preprocessing.fit_transform(X_train)\n",
    "X_test= preprocessing.transform(X_test)"
   ]
  },
  {
   "cell_type": "code",
   "execution_count": 10,
   "id": "23a23e8f",
   "metadata": {},
   "outputs": [],
   "source": [
    "X_train= torch.FloatTensor(X_train).to(device)\n",
    "X_test= torch.FloatTensor(X_test).to(device)\n",
    "y_train = torch.FloatTensor(y_train).to(device)\n",
    "y_test= torch.FloatTensor(y_test).to(device)"
   ]
  },
  {
   "cell_type": "markdown",
   "id": "3dcd092e",
   "metadata": {},
   "source": [
    "# Dataset dan Dataloader"
   ]
  },
  {
   "cell_type": "code",
   "execution_count": 11,
   "id": "d5d50704",
   "metadata": {},
   "outputs": [],
   "source": [
    "from torchvision import datasets,transforms"
   ]
  },
  {
   "cell_type": "code",
   "execution_count": 12,
   "id": "41a56e39",
   "metadata": {},
   "outputs": [],
   "source": [
    "from torch.utils.data import DataLoader,TensorDataset"
   ]
  },
  {
   "cell_type": "code",
   "execution_count": 13,
   "id": "88e95c72",
   "metadata": {},
   "outputs": [],
   "source": [
    "train_set= TensorDataset(X_train,y_train)\n",
    "train_loader= DataLoader(train_set,batch_size=4, shuffle=True)\n",
    "test_set= TensorDataset(X_test,y_test)\n",
    "test_loader= DataLoader(test_set,batch_size=4)"
   ]
  },
  {
   "cell_type": "code",
   "execution_count": 14,
   "id": "28231f03",
   "metadata": {},
   "outputs": [],
   "source": [
    "feature, target= next(iter(train_loader))"
   ]
  },
  {
   "cell_type": "markdown",
   "id": "5e1ba227",
   "metadata": {},
   "source": [
    "# setelah di load menjadi dataloader, kan ini data image, maka perlu penganan dijadiin tensor, karna tiap pixel gambar itu masih dalam bentuk array\n",
    "* gunakan package transforms dari torchvision"
   ]
  },
  {
   "cell_type": "code",
   "execution_count": 15,
   "id": "86810ed2",
   "metadata": {},
   "outputs": [],
   "source": [
    "transform= transforms.Compose([\n",
    "    transforms.Grayscale(),\n",
    "    transforms.ToTensor()\n",
    "])"
   ]
  },
  {
   "cell_type": "code",
   "execution_count": 16,
   "id": "1ec3eac1",
   "metadata": {},
   "outputs": [
    {
     "data": {
      "text/plain": [
       "<torch.utils.data.dataset.TensorDataset at 0x19b1de38208>"
      ]
     },
     "execution_count": 16,
     "metadata": {},
     "output_type": "execute_result"
    }
   ],
   "source": [
    "train_set"
   ]
  },
  {
   "cell_type": "code",
   "execution_count": 17,
   "id": "f2934918",
   "metadata": {},
   "outputs": [],
   "source": [
    "feature,target = next(iter(train_loader))"
   ]
  },
  {
   "cell_type": "code",
   "execution_count": 19,
   "id": "21796d90",
   "metadata": {},
   "outputs": [
    {
     "ename": "AttributeError",
     "evalue": "'TensorDataset' object has no attribute 'clases'",
     "output_type": "error",
     "traceback": [
      "\u001b[1;31m---------------------------------------------------------------------------\u001b[0m",
      "\u001b[1;31mAttributeError\u001b[0m                            Traceback (most recent call last)",
      "\u001b[1;32m<ipython-input-19-e8e364f63f06>\u001b[0m in \u001b[0;36m<module>\u001b[1;34m\u001b[0m\n\u001b[1;32m----> 1\u001b[1;33m \u001b[0mlabel2cat\u001b[0m\u001b[1;33m=\u001b[0m \u001b[0mtrain_set\u001b[0m\u001b[1;33m.\u001b[0m\u001b[0mclases\u001b[0m\u001b[1;33m\u001b[0m\u001b[1;33m\u001b[0m\u001b[0m\n\u001b[0m",
      "\u001b[1;31mAttributeError\u001b[0m: 'TensorDataset' object has no attribute 'clases'"
     ]
    }
   ],
   "source": [
    "label2cat= train_set.cla"
   ]
  },
  {
   "cell_type": "markdown",
   "id": "3c863114",
   "metadata": {},
   "source": [
    "# Arsitektur"
   ]
  },
  {
   "cell_type": "code",
   "execution_count": 20,
   "id": "59824c5c",
   "metadata": {},
   "outputs": [],
   "source": [
    "from torch import nn"
   ]
  },
  {
   "cell_type": "markdown",
   "id": "27b5921b",
   "metadata": {},
   "source": [
    "#### input nya 784 karena data gambar kita dengan  ukuran pixel 28*28 dilakukan flatten jadi nya 784"
   ]
  },
  {
   "cell_type": "code",
   "execution_count": 21,
   "id": "5ce3bff7",
   "metadata": {},
   "outputs": [
    {
     "data": {
      "text/plain": [
       "Sequential(\n",
       "  (0): Linear(in_features=784, out_features=256, bias=True)\n",
       "  (1): ReLU()\n",
       "  (2): Dropout(p=0.3, inplace=False)\n",
       "  (3): Linear(in_features=256, out_features=64, bias=True)\n",
       "  (4): ReLU()\n",
       "  (5): Dropout(p=0.3, inplace=False)\n",
       "  (6): Linear(in_features=64, out_features=10, bias=True)\n",
       "  (7): LogSoftmax()\n",
       ")"
      ]
     },
     "execution_count": 21,
     "metadata": {},
     "output_type": "execute_result"
    }
   ],
   "source": [
    "nn.Sequential(\n",
    "    nn.Linear(784, 256),\n",
    "    nn.ReLU(),\n",
    "    nn.Dropout(0.3),\n",
    "    nn.Linear(256, 64),\n",
    "    nn.ReLU(),\n",
    "    nn.Dropout(0.3),\n",
    "    nn.Linear(64, 10),\n",
    "    nn.LogSoftmax(1)\n",
    ")"
   ]
  },
  {
   "cell_type": "markdown",
   "id": "be12c6be",
   "metadata": {},
   "source": [
    "## kita bisa menggunakan code orang lain guna meringkas dan mengurangi DRY (Don't Repeat Yourself)"
   ]
  },
  {
   "cell_type": "code",
   "execution_count": 22,
   "id": "b42f4fd3",
   "metadata": {},
   "outputs": [],
   "source": [
    "from jcopdl.layers import linear_block"
   ]
  },
  {
   "cell_type": "code",
   "execution_count": 23,
   "id": "10e3c8df",
   "metadata": {},
   "outputs": [],
   "source": [
    "from torch import optim"
   ]
  },
  {
   "cell_type": "code",
   "execution_count": 28,
   "id": "4ed0293b",
   "metadata": {},
   "outputs": [],
   "source": [
    "nn.Sequential(\n",
    "    linear_block(784,256,dropout=0.3),\n",
    "    linear_block(256,64, dropout=0.3),\n",
    "    linear_block(64, 10, activation='lsoftmax')\n",
    "    \n",
    ")"
   ]
  },
  {
   "cell_type": "markdown",
   "id": "ab0c2c47",
   "metadata": {},
   "source": [
    "## kita buat class agar mempermudah dan mengurangi DRY dalam langkah Training Preparation (model), nanti kita bisa langsung panggil aja dan bisa kita buat custom arsitektur dalam menangani proyek seperti multitask learning"
   ]
  },
  {
   "cell_type": "markdown",
   "id": "8f6f748d",
   "metadata": {},
   "source": [
    "* inheritance dari class nn.Module"
   ]
  },
  {
   "cell_type": "code",
   "execution_count": 33,
   "id": "5ffce215",
   "metadata": {},
   "outputs": [],
   "source": [
    "class Fashion (nn.Module):\n",
    "    def __init__ (self, input_size, n_neuron1, n_neuron2, out_size, dropout):\n",
    "        super(). __init__()\n",
    "        self.model = nn.Sequential(\n",
    "            nn.Flatten(),\n",
    "            linear_block(input_size,n_neuron1, dropout=dropout),\n",
    "            linear_block(n_neuron1,n_neuron2 ,dropout=dropout),\n",
    "            linear_block(n_neuron2,out_size)\n",
    "        )\n",
    "    def forward (self, x):\n",
    "        return self.model(x)"
   ]
  },
  {
   "cell_type": "markdown",
   "id": "95da9a5e",
   "metadata": {},
   "source": [
    "# Training Preparation -> MCOC"
   ]
  },
  {
   "cell_type": "code",
   "execution_count": 34,
   "id": "7429bb76",
   "metadata": {},
   "outputs": [],
   "source": [
    "model= Fashion(4,10,15,1,0)"
   ]
  },
  {
   "cell_type": "code",
   "execution_count": 35,
   "id": "87f9423c",
   "metadata": {},
   "outputs": [],
   "source": [
    "criterion= nn.MSELoss()"
   ]
  },
  {
   "cell_type": "code",
   "execution_count": 36,
   "id": "6be26859",
   "metadata": {},
   "outputs": [],
   "source": [
    "from torch import optim"
   ]
  },
  {
   "cell_type": "code",
   "execution_count": 37,
   "id": "38df76a5",
   "metadata": {},
   "outputs": [],
   "source": [
    "optimizer= optim.AdamW(model.parameters(), lr=0.001)"
   ]
  },
  {
   "cell_type": "markdown",
   "id": "b4d8966d",
   "metadata": {},
   "source": [
    "### ada tahapan tambahan sebelum masuk training preparation, \"config\" untuk menyimpan beberapa informasi untuk model kita"
   ]
  },
  {
   "cell_type": "code",
   "execution_count": 40,
   "id": "aa40beed",
   "metadata": {},
   "outputs": [],
   "source": [
    "config= set_config({\n",
    "    \"input_size\" : 4,\n",
    "    \"n_neuron1\" : 10,\n",
    "    \"n_neuron2\" : 15,\n",
    "    \"output_size\" :1,\n",
    "    \"dropout\": 0\n",
    "})"
   ]
  },
  {
   "cell_type": "code",
   "execution_count": 39,
   "id": "753f0ed4",
   "metadata": {},
   "outputs": [
    {
     "data": {
      "text/plain": [
       "1"
      ]
     },
     "execution_count": 39,
     "metadata": {},
     "output_type": "execute_result"
    }
   ],
   "source": [
    "config.output_size"
   ]
  },
  {
   "cell_type": "code",
   "execution_count": 41,
   "id": "23ba8d5d",
   "metadata": {},
   "outputs": [],
   "source": [
    "model= Fashion(config.input_size, config.n_neuron1, config.n_neuron2, config.output_size,config.dropout)"
   ]
  },
  {
   "cell_type": "code",
   "execution_count": 42,
   "id": "719380ab",
   "metadata": {},
   "outputs": [],
   "source": [
    "criterion= nn.MSELoss()"
   ]
  },
  {
   "cell_type": "code",
   "execution_count": 43,
   "id": "e87a6061",
   "metadata": {},
   "outputs": [],
   "source": [
    "optimizer= optim.AdamW(model.parameters(), lr=0.001)"
   ]
  },
  {
   "cell_type": "markdown",
   "id": "446262b7",
   "metadata": {},
   "source": [
    "#### Callback merupakan package untuk mechine menentukan sendiri di epoch keberapa mechine harus berhenti guna mengambil model yang bagus"
   ]
  },
  {
   "cell_type": "code",
   "execution_count": 44,
   "id": "c7c43d23",
   "metadata": {},
   "outputs": [],
   "source": [
    "from jcopdl.callback import Callback"
   ]
  },
  {
   "cell_type": "code",
   "execution_count": 45,
   "id": "914bb3f1",
   "metadata": {},
   "outputs": [],
   "source": [
    "callback= Callback(model,config,outdir=\"model_kemiskinan\")"
   ]
  },
  {
   "cell_type": "markdown",
   "id": "a89b07ac",
   "metadata": {},
   "source": [
    "* early_stop_patience ini lah yang membuat model kita akan berhenti epoch nya jika cost atau accuracy (tergantung apa yang mau dimonitor) mulai jelek daripada epoch sebelum nya."
   ]
  },
  {
   "cell_type": "code",
   "execution_count": 46,
   "id": "95bf5402",
   "metadata": {},
   "outputs": [],
   "source": [
    "from tqdm.auto import tqdm"
   ]
  },
  {
   "cell_type": "code",
   "execution_count": 47,
   "id": "e90a0451",
   "metadata": {},
   "outputs": [],
   "source": [
    "def loop_fn(mode, dataset, dataloader, model, creterion, optimizer, device):\n",
    "    if mode == \"train\":\n",
    "        model.train()\n",
    "    elif mode == \"test\":\n",
    "        model.eval()\n",
    "    cost=0\n",
    "    for feature,target in tqdm(dataloader,desc = mode.title()):\n",
    "        feature,target= feature.to(device),target.to(device)\n",
    "        output= model(feature)\n",
    "        loss= criterion(output, target)\n",
    "        \n",
    "        if mode == \"train\":\n",
    "            loss.backward()\n",
    "            optimizer.step()\n",
    "            optimizer.zero_grad()\n",
    "            \n",
    "        cost+=loss.item()*feature.shape[0]\n",
    "        \n",
    "    cost= cost/len(dataset)\n",
    "    \n",
    "    return cost"
   ]
  },
  {
   "cell_type": "code",
   "execution_count": 56,
   "id": "5fd29f4f",
   "metadata": {},
   "outputs": [
    {
     "data": {
      "application/vnd.jupyter.widget-view+json": {
       "model_id": "1c7fc666fe1640a4bc53958c7f464e4d",
       "version_major": 2,
       "version_minor": 0
      },
      "text/plain": [
       "HBox(children=(FloatProgress(value=0.0, description='Train', max=3.0, style=ProgressStyle(description_width='i…"
      ]
     },
     "metadata": {},
     "output_type": "display_data"
    },
    {
     "name": "stdout",
     "output_type": "stream",
     "text": [
      "\n"
     ]
    },
    {
     "name": "stderr",
     "output_type": "stream",
     "text": [
      "C:\\Users\\Rahmat\\anaconda3\\envs\\jcop\\lib\\site-packages\\torch\\nn\\modules\\loss.py:431: UserWarning: Using a target size (torch.Size([4])) that is different to the input size (torch.Size([4, 1])). This will likely lead to incorrect results due to broadcasting. Please ensure they have the same size.\n",
      "  return F.mse_loss(input, target, reduction=self.reduction)\n",
      "C:\\Users\\Rahmat\\anaconda3\\envs\\jcop\\lib\\site-packages\\torch\\nn\\modules\\loss.py:431: UserWarning: Using a target size (torch.Size([1])) that is different to the input size (torch.Size([1, 1])). This will likely lead to incorrect results due to broadcasting. Please ensure they have the same size.\n",
      "  return F.mse_loss(input, target, reduction=self.reduction)\n"
     ]
    },
    {
     "ename": "TypeError",
     "evalue": "cannot unpack non-iterable float object",
     "output_type": "error",
     "traceback": [
      "\u001b[1;31m---------------------------------------------------------------------------\u001b[0m",
      "\u001b[1;31mTypeError\u001b[0m                                 Traceback (most recent call last)",
      "\u001b[1;32m<ipython-input-56-649ff8c9a1a3>\u001b[0m in \u001b[0;36m<module>\u001b[1;34m\u001b[0m\n\u001b[0;32m      1\u001b[0m \u001b[1;32mwhile\u001b[0m \u001b[1;32mTrue\u001b[0m\u001b[1;33m:\u001b[0m\u001b[1;33m\u001b[0m\u001b[1;33m\u001b[0m\u001b[0m\n\u001b[1;32m----> 2\u001b[1;33m     \u001b[0mtrain_cost\u001b[0m\u001b[1;33m,\u001b[0m \u001b[0mtrain_score\u001b[0m \u001b[1;33m=\u001b[0m \u001b[0mloop_fn\u001b[0m\u001b[1;33m(\u001b[0m\u001b[1;34m\"train\"\u001b[0m\u001b[1;33m,\u001b[0m\u001b[0mtrain_set\u001b[0m\u001b[1;33m,\u001b[0m\u001b[0mtrain_loader\u001b[0m\u001b[1;33m,\u001b[0m\u001b[0mmodel\u001b[0m\u001b[1;33m,\u001b[0m\u001b[0mcriterion\u001b[0m\u001b[1;33m,\u001b[0m\u001b[0moptimizer\u001b[0m\u001b[1;33m,\u001b[0m\u001b[0mdevice\u001b[0m\u001b[1;33m)\u001b[0m\u001b[1;33m\u001b[0m\u001b[1;33m\u001b[0m\u001b[0m\n\u001b[0m\u001b[0;32m      3\u001b[0m     \u001b[1;32mwith\u001b[0m \u001b[0mtorch\u001b[0m\u001b[1;33m.\u001b[0m\u001b[0mno_grad\u001b[0m\u001b[1;33m(\u001b[0m\u001b[1;33m)\u001b[0m\u001b[1;33m:\u001b[0m\u001b[1;33m\u001b[0m\u001b[1;33m\u001b[0m\u001b[0m\n\u001b[0;32m      4\u001b[0m         \u001b[0mtest_cost\u001b[0m\u001b[1;33m,\u001b[0m\u001b[0mtest_score\u001b[0m\u001b[1;33m=\u001b[0m \u001b[0mloop_fn\u001b[0m\u001b[1;33m(\u001b[0m\u001b[1;34m\"test\"\u001b[0m\u001b[1;33m,\u001b[0m\u001b[0mtest_set\u001b[0m\u001b[1;33m,\u001b[0m\u001b[0mtest_loader\u001b[0m\u001b[1;33m,\u001b[0m\u001b[0mmodel\u001b[0m\u001b[1;33m,\u001b[0m\u001b[0mcriterion\u001b[0m\u001b[1;33m,\u001b[0m\u001b[0moptimizer\u001b[0m\u001b[1;33m,\u001b[0m\u001b[0mdevice\u001b[0m\u001b[1;33m)\u001b[0m\u001b[1;33m\u001b[0m\u001b[1;33m\u001b[0m\u001b[0m\n\u001b[0;32m      5\u001b[0m \u001b[1;33m\u001b[0m\u001b[0m\n",
      "\u001b[1;31mTypeError\u001b[0m: cannot unpack non-iterable float object"
     ]
    }
   ],
   "source": [
    "while True:\n",
    "    train_cost, train_score = loop_fn(\"train\",train_set,train_loader,model,criterion,optimizer,device) \n",
    "    with torch.no_grad():\n",
    "        test_cost,test_score= loop_fn(\"test\",test_set,test_loader,model,criterion,optimizer,device) \n",
    "        \n",
    "    callback.log(train_cost,test_cost,train_score,test_score)\n",
    "    \n",
    "    callback.save_checkpoint()\n",
    "    callback.cost_runtime_plotting()\n",
    "    callback.score_runtime_plotting()\n",
    "    \n",
    "    if callback.early_stopping(model, monitor=\"test_score\"):\n",
    "        callback.plot_cost()\n",
    "        callback.plot_score()\n",
    "        break"
   ]
  },
  {
   "cell_type": "code",
   "execution_count": 30,
   "id": "1446c902",
   "metadata": {},
   "outputs": [],
   "source": [
    "import matplotlib.pyplot as plt"
   ]
  },
  {
   "cell_type": "code",
   "execution_count": 42,
   "id": "9690237b",
   "metadata": {},
   "outputs": [],
   "source": [
    "feature,target= next(iter(test_loader))\n",
    "feature, target = feature.to(device), target.to(device)"
   ]
  },
  {
   "cell_type": "code",
   "execution_count": 43,
   "id": "0dffda29",
   "metadata": {},
   "outputs": [
    {
     "data": {
      "text/plain": [
       "tensor([0, 1, 1, 9, 4, 3, 3, 5, 7, 7, 8, 5, 3, 3, 0, 3, 1, 2, 9, 2, 5, 7, 5, 8,\n",
       "        8, 2, 4, 1, 3, 8, 2, 1, 5, 1, 2, 3, 3, 4, 9, 9, 5, 2, 3, 7, 5, 4, 4, 0,\n",
       "        2, 3, 6, 4, 9, 7, 7, 7, 8, 2, 6, 7, 5, 9, 0, 4, 6, 0, 3, 2, 1, 6, 6, 5,\n",
       "        1, 6, 0, 1, 6, 3, 5, 3, 4, 5, 4, 4, 1, 8, 3, 3, 5, 6, 5, 4, 4, 0, 9, 4,\n",
       "        2, 1, 7, 2, 4, 0, 8, 0, 6, 1, 9, 0, 3, 8, 3, 2, 7, 1, 7, 4, 7, 9, 4, 5,\n",
       "        3, 6, 6, 5, 0, 2, 1, 8])"
      ]
     },
     "execution_count": 43,
     "metadata": {},
     "output_type": "execute_result"
    }
   ],
   "source": [
    "with torch.no_grad():\n",
    "    model.eval()\n",
    "    output = model(feature)\n",
    "    pred = output.argmax(1)\n",
    "pred"
   ]
  },
  {
   "cell_type": "code",
   "execution_count": 44,
   "id": "0747a270",
   "metadata": {},
   "outputs": [
    {
     "data": {
      "image/png": "[encoded data removed]",
      "text/plain": [
       "<Figure size 1728x1728 with 36 Axes>"
      ]
     },
     "metadata": {
      "needs_background": "light"
     },
     "output_type": "display_data"
    }
   ],
   "source": [
    "fig, axes= plt.subplots(6, 6, figsize= (24, 24))\n",
    "for img, label,pred, ax in zip(feature, target, pred,axes.flatten()):\n",
    "    ax.imshow(img.view(28,28).cpu(), cmap='gray')\n",
    "    font = {\"color\":\"r\"} if label != pred else {\"color\" :\"g\"}\n",
    "    label,pred = label2cat[label.item()], label2cat[pred.item()]\n",
    "    ax.set_title(f\"L: {label}| pred: {pred}\",fontdict=font);\n",
    "    ax.axis(\"off\");"
   ]
  },
  {
   "cell_type": "code",
   "execution_count": null,
   "id": "7b036af4",
   "metadata": {},
   "outputs": [],
   "source": []
  },
  {
   "cell_type": "code",
   "execution_count": null,
   "id": "8cd70c89",
   "metadata": {},
   "outputs": [],
   "source": []
  },
  {
   "cell_type": "code",
   "execution_count": null,
   "id": "32a91f77",
   "metadata": {},
   "outputs": [],
   "source": []
  },
  {
   "cell_type": "code",
   "execution_count": null,
   "id": "a3f28ab3",
   "metadata": {},
   "outputs": [],
   "source": []
  },
  {
   "cell_type": "code",
   "execution_count": null,
   "id": "2c36e88e",
   "metadata": {},
   "outputs": [],
   "source": []
  },
  {
   "cell_type": "code",
   "execution_count": null,
   "id": "9c0f6fc5",
   "metadata": {},
   "outputs": [],
   "source": []
  },
  {
   "cell_type": "code",
   "execution_count": null,
   "id": "b87e139c",
   "metadata": {},
   "outputs": [],
   "source": []
  }
 ],
 "metadata": {
  "kernelspec": {
   "display_name": "Python [conda env:jcop]",
   "language": "python",
   "name": "conda-env-jcop-py"
  },
  "language_info": {
   "codemirror_mode": {
    "name": "ipython",
    "version": 3
   },
   "file_extension": ".py",
   "mimetype": "text/x-python",
   "name": "python",
   "nbconvert_exporter": "python",
   "pygments_lexer": "ipython3",
   "version": "3.7.6"
  }
 },
 "nbformat": 4,
 "nbformat_minor": 5
}
